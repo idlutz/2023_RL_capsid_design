{
 "cells": [
  {
   "cell_type": "code",
   "execution_count": 1,
   "metadata": {},
   "outputs": [
    {
     "name": "stdout",
     "output_type": "stream",
     "text": [
      "PyRosetta-4 2019 [Rosetta PyRosetta4.conda.linux.CentOS.python36.Release 2019.23+release.b0c18bd01c0dd36a5d94675dd95403c4077125d2 2019-06-07T13:40:47] retrieved from: http://www.pyrosetta.org\n",
      "(C) Copyright Rosetta Commons Member Institutions. Created in JHU by Sergey Lyskov and PyRosetta Team.\n"
     ]
    }
   ],
   "source": [
    "#### get rid of unnecessary things, we didn't use much pyrosetta\n",
    "\n",
    "import numpy as np\n",
    "import seaborn as sns\n",
    "import pandas as pd\n",
    "import matplotlib.pyplot as plt\n",
    "from collections import Counter\n",
    "\n",
    "from Bio import SeqIO\n",
    "from Bio.SeqUtils.ProtParam import ProteinAnalysis\n",
    "\n",
    "import os, subprocess, glob, re, gzip, math, shutil, itertools, sys, time, math, string\n",
    "sys.path.append('scripts/') #### change to scripts_protocols and sub folders\n",
    "import jupyter_utils\n",
    "sys.path.append('protocols/')  #### change to scripts_protocols and sub folders\n",
    "\n",
    "import pyrosetta\n",
    "import pyrosetta.distributed.io as io\n",
    "import pyrosetta.distributed.packed_pose as packed_pose\n",
    "import pyrosetta.distributed.tasks.rosetta_scripts as rosetta_scripts\n",
    "import pyrosetta.distributed.tasks.score as score\n",
    "pyrosetta.init('-mute all')"
   ]
  },
  {
   "cell_type": "markdown",
   "metadata": {},
   "source": [
    "## Directories"
   ]
  },
  {
   "cell_type": "code",
   "execution_count": 4,
   "metadata": {},
   "outputs": [],
   "source": [
    "### directories\n",
    "\n",
    "### probably should be saved as a file and load, rather than as a cell \n",
    "\n",
    "run_dir = '/home/swang523/RLcage/manuscript/computation_pipeline/test/'   #### change to scripts_protocols and sub folders\n",
    "current_dir = \"/home/swang523/RLcage/capsid/\"  #### change to scripts_protocols and sub folders\n",
    "\n",
    "#backbones from Issac\n",
    "original_docks = run_dir + 'scaffolds/*/*pdb'\n",
    "\n",
    "#extracted pdbs\n",
    "chA_dir = run_dir + 'input/chain_A'\n",
    "extracted_interfaces_dir = run_dir + 'input/small_pdbs'\n",
    "\n",
    "#chA_pdbs = glob.glob(chA_dir + '/*pdb')\n",
    "\n",
    "#rainity prediction npz\n",
    "chA_pssm_prediction_dir = run_dir + 'pssm/rainity_prediction_chA'\n",
    "int_pssm_prediction_dir = run_dir + 'pssm/rainity_prediction_int'\n",
    "\n",
    "#pssms_chA_npz = glob.glob(chA_pssm_prediction_dir + '/prediction_*npz')\n",
    "#pssms_int_npz = glob.glob(int_pssm_prediction_dir + '/prediction_*npz')\n",
    "\n",
    "#rainity_pssms\n",
    "chA_pssm_dir = run_dir + 'pssm/pssm_rainity_final_chA'\n",
    "int_pssm_dir = run_dir + 'pssm/pssm_rainity_final_int'\n",
    "\n",
    "#pssms_chA = glob.glob(chA_pssm_dir + '/*pssm')\n",
    "#pssms_int = glob.glob(int_pssm_dir + '/*pssm')\n",
    "\n",
    "#designed monomers\n",
    "designed_monomers_dir = run_dir + 'out/designed_chA'\n",
    "#all designed monomers\n",
    "designed_monomers_all_dir = run_dir + 'out/designed_chA_all'\n",
    "\n",
    "#filtered designed monomers\n",
    "filtered_designed_monomers_dir = run_dir + 'out/filtered_designed_chA'\n",
    "\n",
    "#AF_predicted_monomers\n",
    "AF_monomers_dir = run_dir + 'AF/designed_chA_AF'\n",
    "\n",
    "#AF_predicted_monomers_all\n",
    "AF_monomers_all_dir = run_dir + 'AF/designed_chA_all_AF'\n",
    "\n",
    "#AF_filtered_monomers\n",
    "AF_monomers_filtered_dir = run_dir + 'AF/designed_chA_AF_filtered'\n",
    "#AF_filtered_monomers_TMscore\n",
    "AF_monomers_filtered_TMscore_dir = AF_monomers_filtered_dir + '/TMscore'\n",
    "\n",
    "#filtered_DMmodel_for_design_dir\n",
    "DM_monomers_for_design_dir = run_dir + 'monomersfordesign/filtered_DM_chA'\n",
    "#aligned DM monomers\n",
    "aligned_DM_monomers_dir = run_dir + 'monomers_fordesign/aligned_DM_chA'\n",
    "#aligned DM monomers post_1st_cage_design\n",
    "aligned_DM_1stcage_monomers_dir = run_dir + 'monomers_fordesign/aligned_DM_1stcage_chA'\n",
    "#Aligned_DM_chA_pdbs = glob.glob(aligned_DM_monomers_dir + '/*.pdb')\n",
    "\n",
    "#filtered_AFmodel_for_design_dir\n",
    "AF_monomers_for_design_dir = run_dir + 'monomersfordesign/filtered_AF_chA'\n",
    "#aligned AF monomers\n",
    "aligned_AF_monomers_dir = run_dir + 'monomers_fordesign/aligned_AF_chA'\n",
    "#aligned AF monomers post_1st_cage_design\n",
    "aligned_AF_1stcage_monomers_dir = run_dir + 'monomers_fordesign/aligned_AF_1stcage_chA'\n",
    "#Aligned_AF_chA_pdbs = glob.glob(aligned_AF_monomers_dir + '/*.pdb')\n",
    "\n",
    "#cage design for DM round #1 \n",
    "predesigned_DM_cages_dir = run_dir + 'cage_design/1st_DM'\n",
    "#all DM cages chA\n",
    "predesigned_DM_cages_all_chA_dir = run_dir + 'cage_design/1st_DM_chA_all'\n",
    "\n",
    "#cage design for AF round #1 \n",
    "predesigned_AF_cages_dir = run_dir + 'cage_design/1st_AF'\n",
    "#all AF cages chA\n",
    "predesigned_AF_cages_all_chA_dir = run_dir + 'cage_design/1st_AF_chA_all'\n",
    "\n",
    "#interfaces DM\n",
    "extracted_DM_interfaces_dir = run_dir + 'cage_design/1st_DM_interfaces'\n",
    "\n",
    "#interfaces AF\n",
    "extracted_AF_interfaces_dir = run_dir + 'cage_design/1st_AF_interfaces'\n",
    "\n",
    "#filtered DM cages for redesign\n",
    "cages_DM_forredesign_dir = predesigned_DM_cages_dir + '/filtered'\n",
    "cages_DM_forredesign_chA_dir = cages_DM_forredesign_dir + '_chA'\n",
    "\n",
    "#filtered AF cages for redesign\n",
    "cages_AF_forredesign_dir = predesigned_AF_cages_dir + '/filtered'\n",
    "cages_AF_forredesign_chA_dir = cages_AF_forredesign_dir + '_chA'\n",
    "\n",
    "#AF_predicted_AF_cage_1st\n",
    "AF_cage_AFmonomers_dir = run_dir + 'AF/cage_from_AFmonomers_1st'\n",
    "\n",
    "#AF_predicted_DM_cage_1st\n",
    "AF_cage_DMmonomers_dir = run_dir + 'AF/cage_from_DMmonomers_1st'\n",
    "\n",
    "#cage design for DM round #2 \n",
    "redesigned_DM_cages_dir = run_dir + 'cage_design/2nd_DM'\n",
    "\n",
    "#AF_predicted_DM_cage_2st\n",
    "AF_redesigned_cage_DMmonomers_dir = run_dir + 'AF/cage_from_DMmonomers_2nd'\n",
    "\n",
    "#aligned AF monomers for AF round #2\n",
    "aligned_cage_AFmonomers_dir = run_dir + 'monomers_fordesign/aligned_AF_chA_2nd'\n",
    "\n",
    "#cage redesign for AF round #2 \n",
    "redesigned_AF_cages_dir = run_dir + 'cage_design/2nd_AF'\n",
    "redesigned_AF_cages_all_dir = run_dir + 'cage_design/2nd_AF_all'\n",
    "redesigned_AF_cages_chA_dir = run_dir + 'cage_design/2nd_AF_chA'\n",
    "\n",
    "mpnn_redesign_dir = run_dir + 'cage_design/mpnn_redesign'\n",
    "\n",
    "#AF_predicted_redesigned_capsids\n",
    "AF_redesigned_cage_dir = run_dir + 'AF/redesigned_capsid'\n",
    "aligned_redesigned_capsid_dir = run_dir + 'AF/redesigned_capsid_aligned'\n",
    "\n",
    "\n",
    "#final filtered AF cages \n",
    "final_cages_AF_dir = run_dir + 'final/AF_cage_forinspection'\n",
    "\n",
    "#final filtered DM cages \n",
    "final_cages_DM_dir = run_dir + 'final/DM_cage_forinspection'\n",
    "\n",
    "#cage_for_redesign_chA_int\n",
    "cage_redesign_chain_A_dir = run_dir + 'input/cage_redesign_chain_A'\n",
    "cage_redesign_small_pdbs_dir = run_dir + 'input/cage_redesign_small_pdbs'\n",
    "\n",
    "#cage_redesign_rainity_prediciton + pssm\n",
    "cage_redesign_chA_pssm_prediction_dir = run_dir + 'pssm/cage_redesign_rainity_prediction_chA/'\n",
    "cage_redesign_int_pssm_prediction_dir = run_dir + 'pssm/cage_redesign_rainity_prediction_int/'\n",
    "cage_redesign_int_pssm_dir = run_dir + 'pssm/pssm_rainity_cage_redesign_int'\n",
    "\n",
    "#to order\n",
    "cages_selected_dir = run_dir + 'final/to_order'\n"
   ]
  },
  {
   "cell_type": "code",
   "execution_count": 5,
   "metadata": {},
   "outputs": [],
   "source": [
    "## define the read_fasta function for MPNN uses\n",
    "\n",
    "### Reads in fasta file containing multiple sequences. Returns dictionary of holding multiple sequences or only single sequence, depending on input file.\n",
    "def read_fasta(fasta_path, split_char, id_field):\n",
    "    sequences = dict()\n",
    "    with open( fasta_path, 'r' ) as fasta_f:\n",
    "        for line in fasta_f:\n",
    "            # get uniprot ID from header and create new entry\n",
    "            if line.startswith('>'):\n",
    "                uniprot_id = line.replace('>', '').strip().split(split_char)[id_field]\n",
    "                sequences[ uniprot_id ] = ''\n",
    "            else:\n",
    "                # repl. all whie-space chars and join seqs spanning multiple lines\n",
    "                sequences[ uniprot_id ] += ''.join( line.split('/')[1] ).upper()\n",
    "                # sequences[ uniprot_id ] += ''.join( line.split() ).upper()\n",
    "    return sequences "
   ]
  },
  {
   "cell_type": "code",
   "execution_count": 6,
   "metadata": {},
   "outputs": [],
   "source": [
    "## define make_dist_plots_w_hue   #### should clean it up in a python script\n",
    "\n",
    "import math\n",
    "import matplotlib.pyplot as plt\n",
    "import numpy as np\n",
    "import seaborn as sns\n",
    "from collections import Counter\n",
    "\n",
    "def make_dist_plots_w_hue(df, relevant_features, hue=None):\n",
    "    ncols = 3\n",
    "    nrows = math.ceil(len(relevant_features) / ncols)\n",
    "    (fig, axs) = plt.subplots(\n",
    "        ncols=ncols, nrows=nrows, figsize=[15,3*nrows]\n",
    "    )\n",
    "    axs = axs.reshape(-1)\n",
    "\n",
    "    for (i, metric) in enumerate(relevant_features):\n",
    "        is_int_arr = np.array_equal(df[metric], df[metric].astype(int))\n",
    "        if is_int_arr:\n",
    "            if hue is not None:\n",
    "                hues = list(set(df[hue]))\n",
    "                dfs = []\n",
    "                for h in hues:\n",
    "                    dfsub = df[df[hue]==h]\n",
    "                    c = Counter(dfsub[metric])\n",
    "                    x = list(c.keys())\n",
    "                    y = list(c.values())\n",
    "                    d = {metric: x, 'counts':y, hue: h}\n",
    "                    dfx = pd.DataFrame.from_dict(d)\n",
    "                    dfs.append(dfx)\n",
    "                _ = sns.catplot(data=pd.concat(dfs), x=metric, y='counts', hue=hue, ax=axs[i], kind=\"bar\")\n",
    "            else:\n",
    "                c = Counter(df[metric])\n",
    "                sns.barplot(x=list(c.keys()), y=list(c.values()), ax=axs[i], color='grey')\n",
    "                #axs[i].set_xlabel(metric)\n",
    "        else:\n",
    "            if hue is not None:\n",
    "                labels = set(df[hue])\n",
    "                for l in labels:\n",
    "                    #print(df[df[hue]==l][metric])\n",
    "                    sns.distplot(df[df[hue]==l][metric].astype(float), ax=axs[i],label=l)\n",
    "                axs[i].legend()\n",
    "            else:\n",
    "                sns.distplot(df[metric], ax=axs[i])\n",
    "\n",
    "    # This is silly but catplot is for some reason making extra plots\n",
    "    for n in range(2,len(relevant_features)):\n",
    "        plt.close(n)\n",
    "\n",
    "    sns.despine()\n",
    "    plt.tight_layout()\n",
    "#     plt.show()"
   ]
  },
  {
   "cell_type": "markdown",
   "metadata": {},
   "source": [
    "## Prepare scaffolds for design"
   ]
  },
  {
   "cell_type": "code",
   "execution_count": 16,
   "metadata": {},
   "outputs": [],
   "source": [
    "###############################################\n",
    "# generate bash cmd file to extract chain A and chains surrounding chain A\n",
    "################################################\n",
    "\n",
    "# scaffolds for design\n",
    "original_docks = glob.glob(run_dir + 'scaffolds/*/*pdb')\n",
    "print(len(original_docks))\n",
    "\n",
    "os.makedirs(chA_dir, exist_ok=True)\n",
    "os.makedirs(extracted_interfaces_dir, exist_ok=True)\n",
    "\n",
    "cmdsfile = 'cmds_extract_chains'\n",
    "with open(cmdsfile, 'w') as f_out:\n",
    "    for pdb in original_docks:\n",
    "        output_dir = '/net/scratch/swang523/capsid/11-19-21/input/small_pdbs'\n",
    "        cmd = f\"/usr/bin/pymol -c scripts/extract_chains.py --pdb_in {pdb} --pdb_out {extracted_interfaces_dir}/{pdb.split('/')[-1]}\"\n",
    "        f_out.write(cmd+'\\n')\n",
    "        \n",
    "        output_dir = '/net/scratch/swang523/capsid/11-19-21/input/chain_A'\n",
    "        cmd = f\"/usr/bin/pymol -c scripts/extract_chains.py --only_chainA 1 --pdb_in {pdb} --pdb_out {chA_dir}/{pdb.split('/')[-1]}\"\n",
    "        f_out.write(cmd+'\\n')\n",
    "\n",
    "submitfile = cmdsfile+'.sh'\n",
    "#jupyter_utils.make_submit_file(cmds=cmdsfile, submitfile=submitfile, group_size=100)\n",
    "#p = subprocess.Popen(['sbatch', submitfile])"
   ]
  },
  {
   "cell_type": "markdown",
   "metadata": {},
   "source": [
    "## Make Rainity PSSMs"
   ]
  },
  {
   "cell_type": "code",
   "execution_count": 17,
   "metadata": {},
   "outputs": [
    {
     "name": "stdout",
     "output_type": "stream",
     "text": [
      "2\n",
      "2\n"
     ]
    }
   ],
   "source": [
    "# Number of input files \n",
    "\n",
    "#chA_dir = '/net/scratch/swang523/capsid/11-19-21/input/chain_A'\n",
    "pdb_chA = glob.glob(chA_dir + '/' + '*pdb')\n",
    "print(len(pdb_chA))\n",
    "\n",
    "#extracted_interfaces_dir = '/net/scratch/swang523/capsid/11-19-21/input/small_pdbs'\n",
    "pdb_int = glob.glob(extracted_interfaces_dir + '/' + '*pdb')\n",
    "print(len(pdb_int))"
   ]
  },
  {
   "cell_type": "code",
   "execution_count": 24,
   "metadata": {},
   "outputs": [],
   "source": [
    "# generate bash cmd file to create Rainity prediction files (chainA)\n",
    "## need to use a GPU to run\n",
    "\n",
    "cmdsfile = 'cmds_rainity_chA_predictions'\n",
    "os.makedirs(chA_pssm_prediction_dir, exist_ok=True)\n",
    "\n",
    "\n",
    "with open(cmdsfile, 'w') as f_out:\n",
    "    for pdb_chA in glob.glob(chA_dir + '/' + '*pdb'):   ### \n",
    "        cmd1 = f\"/software/conda/envs/tensorflow/bin/python /home/longxing/MachineLearning/Longxing_LayerDesign/rainity/fragment_profile.py -output_path {chA_pssm_prediction_dir}/ -output_prefix fragment_profile_ -frag_size 7 -pdb_database /home/longxing/MachineLearning/Longxing_LayerDesign/rainity/database/fragment_library/PISCES_pdb30_181019.npz -use_sidechain_neighbors -max_rmsd 1.0 -max_fragments 1000 -equal_weight_for_all_sliding_window -exclude_same_pdb -pdbs {pdb_chA}\"\n",
    "        cmd2 = f\"/software/conda/envs/tensorflow/bin/python /home/longxing/MachineLearning/Longxing_LayerDesign/rainity/feature_extraction.py -output_path {chA_pssm_prediction_dir} -output_prefix backbone_ -pdbs {pdb_chA}\"\n",
    "        cmd3 = f\"/software/conda/envs/tensorflow/bin/python /home/longxing/MachineLearning/Longxing_LayerDesign/rainity/rpx_counts.py -rpx_database /home/longxing/MachineLearning/Longxing_LayerDesign/rainity/database/rpx_tables_ang20.0_spatial1.5/rpx_database_20200921_5sep.bin -output_path {chA_pssm_prediction_dir} -output_prefix rpx_counts_ -pdbs {pdb_chA}\"\n",
    "        f_out.write(cmd1 + '\\n' + cmd2 + '\\n'+ cmd3 + '\\n')\n",
    "        cmd4 = f\"/software/conda/envs/tensorflow/bin/python /home/longxing/MachineLearning/Longxing_LayerDesign/rainity/main_BiRNN.py -use_fragment_profile -use_rpx_frequency -model_fn /home/longxing/MachineLearning/Longxing_LayerDesign/rainity/models/production/rainity_best -pdb_fn {pdb_chA}\"\n",
    "        f_out.write('cd ' + chA_pssm_prediction_dir + '; ' + cmd4 + '\\n')\n",
    "        \n",
    "submitfile = cmdsfile+'.sh'\n",
    "\n",
    "#### cmd 1,2,3 can be finished on a cpu\n",
    "#### submit jobs with cmd 4 with gpu\n",
    "\n"
   ]
  },
  {
   "cell_type": "code",
   "execution_count": 28,
   "metadata": {},
   "outputs": [],
   "source": [
    "# generate bash cmd file to create Rainity prediction files (interface)\n",
    "## need to use a GPU to run\n",
    "\n",
    "cmdsfile = 'cmds_rainity_int_predictions'\n",
    "os.makedirs(int_pssm_prediction_dir, exist_ok=True)\n",
    "      \n",
    "with open(cmdsfile, 'w') as f_out:\n",
    "    for pdb_int in glob.glob(extracted_interfaces_dir + '/' + '*pdb'):\n",
    "        cmd5 = f\"/software/conda/envs/tensorflow/bin/python /home/longxing/MachineLearning/Longxing_LayerDesign/rainity/fragment_profile.py -output_path {int_pssm_prediction_dir}/ -output_prefix fragment_profile_ -frag_size 7 -pdb_database /home/longxing/MachineLearning/Longxing_LayerDesign/rainity/database/fragment_library/PISCES_pdb30_181019.npz -use_sidechain_neighbors -max_rmsd 1.0 -max_fragments 1000 -equal_weight_for_all_sliding_window -exclude_same_pdb -pdbs {pdb_int}\"\n",
    "        cmd6 = f\"/software/conda/envs/tensorflow/bin/python /home/longxing/MachineLearning/Longxing_LayerDesign/rainity/feature_extraction.py -output_path {int_pssm_prediction_dir} -output_prefix backbone_ -pdbs {pdb_int}\"\n",
    "        cmd7 = f\"/software/conda/envs/tensorflow/bin/python /home/longxing/MachineLearning/Longxing_LayerDesign/rainity/rpx_counts.py -rpx_database /home/longxing/MachineLearning/Longxing_LayerDesign/rainity/database/rpx_tables_ang20.0_spatial1.5/rpx_database_20200921_5sep.bin -output_path {int_pssm_prediction_dir} -output_prefix rpx_counts_ -pdbs {pdb_int}\"\n",
    "        f_out.write(cmd5 + '\\n' + cmd6 + '\\n'+ cmd7 + '\\n')\n",
    "        \n",
    "        cmd8 = f\"/software/conda/envs/tensorflow/bin/python /home/longxing/MachineLearning/Longxing_LayerDesign/rainity/main_BiRNN.py -use_fragment_profile -use_rpx_frequency -model_fn /home/longxing/MachineLearning/Longxing_LayerDesign/rainity/models/production/rainity_best -pdb_fn {pdb_int}\"\n",
    "        f_out.write('cd ' + int_pssm_prediction_dir + '; ' + cmd8 + '\\n')\n",
    "        \n",
    "        \n",
    "submitfile = cmdsfile+'.sh'\n",
    "\n",
    "#### cmd 5,6,7 can be finished on a  cpu\n",
    "#### submit jobs with cmd 8 with gpu\n"
   ]
  },
  {
   "cell_type": "code",
   "execution_count": 35,
   "metadata": {},
   "outputs": [],
   "source": [
    "# generate bash cmd file to make make pssm files from Rainity chA predictions\n",
    "## need to run with pyrosetta\n",
    "\n",
    "os.makedirs(chA_pssm_dir, exist_ok=True)\n",
    "pssms_chA_npz = glob.glob(chA_pssm_prediction_dir + '/prediction_*npz')\n",
    "\n",
    "cmdsfile = 'cmds_rainity2pssm_chA'\n",
    "with open(cmdsfile, 'w') as f_out:\n",
    "    for j,npz in enumerate(pssms_chA_npz):\n",
    "        prob = np.load(npz, allow_pickle=True)['pssm'][0]\n",
    "        pdbname = 'build_'+npz.split('/')[-1].replace('prediction_build_','')[:-4]+'.pdb'\n",
    "        outname = f\"{chA_pssm_dir}/{pdbname.replace('.pdb','.pssm')}\"\n",
    "        chA_input = f'{chA_dir}/{pdbname}' ## define chaA_path in the \"scripts/convert_ranity_npz_2_pssm.py\"\n",
    "        cmd = f'/software/conda/envs/pyrosetta/bin/python3.7 scripts/convert_ranity_npz_2_pssm.py --chA_dir {chA_input} --rainity_npz {npz} --pssmOut {outname}'\n",
    "        f_out.write(cmd + '\\n')\n",
    "\n",
    "#submitfile = cmdsfile+'.sh'\n",
    "#jupyter_utils.make_submit_file(cmds=cmdsfile, submitfile=submitfile, group_size=50, mem='1G', queue='short')\n",
    "#p = subprocess.Popen(['sbatch', submitfile])"
   ]
  },
  {
   "cell_type": "code",
   "execution_count": 37,
   "metadata": {},
   "outputs": [],
   "source": [
    "# generate bash cmd file to make pssm files from Rainity int predictions\n",
    "## need to run with pyrosetta\n",
    "\n",
    "os.makedirs(int_pssm_dir, exist_ok=True)\n",
    "pssms_int_npz = glob.glob(int_pssm_prediction_dir + '/prediction_*npz')\n",
    "\n",
    "cmdsfile = 'cmds_ranity2pssm_int'\n",
    "with open(cmdsfile, 'w') as f_out:\n",
    "    for j,npz in enumerate(pssms_int_npz):\n",
    "        prob = np.load(npz, allow_pickle=True)['pssm'][0]\n",
    "        pdbname = 'build_'+npz.split('/')[-1].replace('prediction_build_','')[:-4]+'.pdb'\n",
    "        outname = f\"{int_pssm_dir}/{pdbname.replace('.pdb','.pssm')}\"\n",
    "        int_input = f'{extracted_interfaces_dir}/{pdbname}'  ## define chaA_path in the \"scripts/convert_ranity_npz_2_pssm.py\"\n",
    "        cmd = f'/software/conda/envs/pyrosetta/bin/python3.7 scripts/convert_ranity_npz_2_pssm.py --chA_dir {int_input} --rainity_npz {npz} --pssmOut {outname}'\n",
    "        f_out.write(cmd + '\\n')\n",
    "\n",
    "#submitfile = cmdsfile+'.sh'\n",
    "#jupyter_utils.make_submit_file(cmds=cmdsfile, submitfile=submitfile, group_size=1000, mem='1G', queue='short')\n",
    "#p = subprocess.Popen(['sbatch', submitfile])"
   ]
  },
  {
   "cell_type": "code",
   "execution_count": null,
   "metadata": {},
   "outputs": [],
   "source": [
    "### now you should have generated a {xxx.pssm} file for each of your design in the directories: {chA_pssm_dir} and {int_pssm_dir}, respectively."
   ]
  },
  {
   "cell_type": "markdown",
   "metadata": {},
   "source": [
    "## Design the monomers with rainity pssm"
   ]
  },
  {
   "cell_type": "code",
   "execution_count": 5,
   "metadata": {},
   "outputs": [],
   "source": [
    "import importlib\n",
    "import sys\n",
    "import os\n",
    "import shutil\n",
    "sys.path.append('protocols/')\n",
    "import design_monomer\n",
    "import glob\n",
    "sys.path.append('scripts/')\n",
    "import jupyter_utils\n",
    "import subprocess"
   ]
  },
  {
   "cell_type": "code",
   "execution_count": 78,
   "metadata": {},
   "outputs": [
    {
     "data": {
      "text/plain": [
       "'/mnt/home/swang523/RLcage/capsid'"
      ]
     },
     "execution_count": 78,
     "metadata": {},
     "output_type": "execute_result"
    }
   ],
   "source": [
    "os.getcwd()"
   ]
  },
  {
   "cell_type": "code",
   "execution_count": 42,
   "metadata": {},
   "outputs": [],
   "source": [
    "# generate cmd file to design monomers with chA pdb and pssm file\n",
    "### need to install Rosetta and have correct add ons called by flags \n",
    "\n",
    "## \"-beta_nov16\"\n",
    "## \"-corrections:beta_nov16\"\n",
    "## \"-database /software/rosetta/latest/main/database\" \n",
    "## \"-holes:dalphaball /home/bcov/dev_rosetta/main/source/external/DAlpahBall/DAlphaBall.gcc\"\n",
    "\n",
    "###############################\n",
    "rosexe = '/software/rosetta/latest/bin/rosetta_scripts.hdf5.linuxgccrelease'\n",
    "current_dir = os.getcwd()\n",
    "\n",
    "os.makedirs(designed_monomers_dir, exist_ok=True)\n",
    "chA_pdbs = glob.glob(chA_dir + '/*pdb') # input pdbs (chainA)\n",
    "\n",
    "cmdsfile = 'cmds_design_monomer'\n",
    "with open(cmdsfile, 'w') as f_cmds:\n",
    "    for pdbidx, pdb in enumerate(chA_pdbs):\n",
    "        pdbname = pdb.split('/')[-1][:-4]\n",
    "        pssm_f = f'{chA_pssm_dir}/{pdbname}.pssm' \n",
    "        xml = design_monomer.make_script(pssm_f)   ######\n",
    "            \n",
    "        chainA = chA_dir + '/' + pdb.split('/')[-1]\n",
    "        design_folder = f'{designed_monomers_dir}/{pdbname}'\n",
    "        protocol = f'{design_folder}/design.xml'\n",
    "        os.makedirs(design_folder, exist_ok=True)\n",
    "        with open(protocol,'w') as f_out:\n",
    "            f_out.write(xml)\n",
    "            \n",
    "        shutil.copy('flags',design_folder)\n",
    "        cmd = f'{rosexe} -s {chainA} -parser:protocol design.xml @flags -out:prefix rainity_'\n",
    "        with open(f'{design_folder}/run.sh','w') as f_out: \n",
    "            f_out.write(cmd +'\\n')\n",
    "            \n",
    "        # setup cmdfile\n",
    "        f_cmds.write(f'cd {design_folder}; bash run.sh; cd {current_dir}\\n')\n",
    "\n",
    "#submitfile = cmdsfile+'.sh'\n",
    "#jupyter_utils.make_submit_file(cmds=cmdsfile, submitfile=submitfile, group_size=1, mem='2G', queue='short')\n",
    "#p = subprocess.Popen(['sbatch', submitfile])"
   ]
  },
  {
   "cell_type": "markdown",
   "metadata": {},
   "source": [
    "## Rosetta filter on monomers - score/res"
   ]
  },
  {
   "cell_type": "code",
   "execution_count": 31,
   "metadata": {},
   "outputs": [],
   "source": [
    "import importlib\n",
    "import sys\n",
    "import os\n",
    "import shutil\n",
    "import pandas as pd\n",
    "sys.path.append('protocols/')\n",
    "import glob\n",
    "sys.path.append('scripts/')\n",
    "import jupyter_utils\n",
    "import subprocess\n",
    "import importlib\n"
   ]
  },
  {
   "cell_type": "code",
   "execution_count": 85,
   "metadata": {},
   "outputs": [
    {
     "name": "stdout",
     "output_type": "stream",
     "text": [
      "2\n",
      "2\n"
     ]
    }
   ],
   "source": [
    "### collect all score files and print to csv\n",
    "score_paths = glob.glob(designed_monomers_dir + '/*/*_score.sc') ### becomes really slow with 220k output, ok with fewer \n",
    "print(len(score_paths))\n",
    "\n",
    "dfs = []\n",
    "for score_pathsidx, score_path in enumerate(score_paths):\n",
    "    df_f = pd.read_csv(f'{score_path}',skiprows=1,delim_whitespace=True)\n",
    "    directory = os.path.dirname(score_path)\n",
    "    pdb_path = glob.glob(directory+'/*pdb')[0]\n",
    "    df_f['pdbpath'] = pdb_path\n",
    "    dfs.append(df_f)\n",
    "\n",
    "df=pd.concat(dfs).dropna()\n",
    "df.to_csv('all_scores_test.csv') ### change score_file name and output dir \n",
    "print(len(df))"
   ]
  },
  {
   "cell_type": "code",
   "execution_count": 63,
   "metadata": {},
   "outputs": [
    {
     "data": {
      "image/png": "[encoded data removed]",
      "text/plain": [
       "<Figure size 1080x216 with 3 Axes>"
      ]
     },
     "metadata": {
      "needs_background": "light"
     },
     "output_type": "display_data"
    }
   ],
   "source": [
    "### plot overall distribution for key features\n",
    "\n",
    "relevant_features = ['score_per_res','vbuns_all_heavy']\n",
    "for f in relevant_features:\n",
    "    df[f] = df[f].astype(float)\n",
    "    \n",
    "relevant_features = ['score_per_res','vbuns_all_heavy','ss_count']\n",
    "make_dist_plots_w_hue(df, relevant_features)"
   ]
  },
  {
   "cell_type": "code",
   "execution_count": 66,
   "metadata": {},
   "outputs": [
    {
     "data": {
      "image/png": "[encoded data removed]",
      "text/plain": [
       "<Figure size 1080x216 with 3 Axes>"
      ]
     },
     "metadata": {
      "needs_background": "light"
     },
     "output_type": "display_data"
    }
   ],
   "source": [
    "### filter by score_per_res, vbuns, and ss_count; and then plot distribution\n",
    "\n",
    "dfsub = df[(df['score_per_res']<-2.7) & (df['vbuns_all_heavy']<1) & (df['ss_count']>2)]\n",
    "\n",
    "for pdb, energy in zip(dfsub['pdbpath'], dfsub['score_per_res']):\n",
    "    fname = pdb.split('/')[-1].replace('rainity_build','build')\n",
    "    #shutil.copy(pdb, f'monomersfordesign/8-15-21/designed_monomers/{fname}')\n",
    "len(dfsub)\n",
    "\n",
    "relevant_features = ['ss_count','hbond_sc', 'score_per_res']\n",
    "make_dist_plots_w_hue(dfsub, relevant_features)"
   ]
  },
  {
   "cell_type": "code",
   "execution_count": 67,
   "metadata": {},
   "outputs": [],
   "source": [
    "#copy to filtered designed monomers\n",
    "\n",
    "os.makedirs(filtered_designed_monomers_dir, exist_ok=True)\n",
    "dfsub['path'] = designed_monomers_dir + '/' + dfsub['description'].str.replace(\"rainity_\", \"\").str.replace(\"_0001\", \"\") + '/' + dfsub['description'] + '.pdb'\n",
    "\n",
    "for i,row in dfsub.iterrows():\n",
    "    p = str(row['path'])\n",
    "    d = str(row['description'])\n",
    "    shutil.copy(p, f'{filtered_designed_monomers_dir}/{d}.pdb')\n"
   ]
  },
  {
   "cell_type": "markdown",
   "metadata": {},
   "source": [
    "## Alphafold - plddt and rmsd"
   ]
  },
  {
   "cell_type": "code",
   "execution_count": 47,
   "metadata": {},
   "outputs": [],
   "source": [
    "### superfold filtered designed monomers to get mean pLDDT and rmsd\n",
    "\n",
    "chA_superfold_output_dir = run_dir + \"AF/chA_superfold_output\" ### new_dir\n",
    "os.makedirs(chA_superfold_output_dir, exist_ok=True)\n",
    "#TMscore_dir = AF_monomers_filtered_dir + '/' + 'TMscore/'\n",
    "#os.makedirs(TMscore_dir, exist_ok=True)\n",
    "\n",
    "#current_dir = \"/home/swang523/RLcage/capsid/\"\n",
    "cmdsfile = 'cmds_superfold'\n",
    "#script = f'{current_dir}/scripts/pymol_make_bond_and_mol2.py'\n",
    "with open(cmdsfile, 'w') as f_out:\n",
    "    f_out.write(\"/software/lab/superfold/superfold\")\n",
    "    f_out.close()\n",
    "\n",
    "with open(cmdsfile, 'a') as f_out:\n",
    "    for pdb_AF2 in glob.glob(filtered_designed_monomers_dir + '/*pdb'):\n",
    "        cmd = f\"{pdb_AF2}\"\n",
    "        f_out.write(\" \" + cmd)\n",
    "\n",
    "with open(cmdsfile, 'a') as f_out:\n",
    "    f_out.write(\" --out_dir \" + chA_superfold_output_dir + \" --models 1 --output_summary\")\n",
    "    f_out.close\n",
    "\n",
    "#submitfile = cmdsfile+'.sh'\n",
    "#jupyter_utils.make_submit_file(cmds=cmdsfile, submitfile=submitfile, group_size=1000, mem='2G', queue='short')\n",
    "#p = subprocess.Popen(['sbatch', submitfile])"
   ]
  },
  {
   "cell_type": "code",
   "execution_count": 89,
   "metadata": {},
   "outputs": [
    {
     "name": "stderr",
     "output_type": "stream",
     "text": [
      "/software/conda/envs/OBSOLETE/deepchem/lib/python3.6/site-packages/ipykernel_launcher.py:3: ParserWarning: Falling back to the 'python' engine because the 'c' engine does not support regex separators (separators > 1 char and different from '\\s+' are interpreted as regex); you can avoid this warning by specifying engine='python'.\n",
      "  This is separate from the ipykernel package so we can avoid doing imports until\n"
     ]
    },
    {
     "data": {
      "text/html": [
       "<div>\n",
       "<style scoped>\n",
       "    .dataframe tbody tr th:only-of-type {\n",
       "        vertical-align: middle;\n",
       "    }\n",
       "\n",
       "    .dataframe tbody tr th {\n",
       "        vertical-align: top;\n",
       "    }\n",
       "\n",
       "    .dataframe thead th {\n",
       "        text-align: right;\n",
       "    }\n",
       "</style>\n",
       "<table border=\"1\" class=\"dataframe\">\n",
       "  <thead>\n",
       "    <tr style=\"text-align: right;\">\n",
       "      <th></th>\n",
       "      <th>name</th>\n",
       "      <th>model</th>\n",
       "      <th>recycle</th>\n",
       "      <th>tol</th>\n",
       "      <th>mean_plddt</th>\n",
       "      <th>ptM</th>\n",
       "      <th>rmsd</th>\n",
       "      <th>time</th>\n",
       "    </tr>\n",
       "  </thead>\n",
       "  <tbody>\n",
       "    <tr>\n",
       "      <th>0</th>\n",
       "      <td>rainity_build_0.2089_0.98_0.4653_19_2.00_0.005...</td>\n",
       "      <td>model_1_ptm_seed_0</td>\n",
       "      <td>3</td>\n",
       "      <td>0.23</td>\n",
       "      <td>86.44</td>\n",
       "      <td>0.66</td>\n",
       "      <td>1.58</td>\n",
       "      <td>120.501117</td>\n",
       "    </tr>\n",
       "    <tr>\n",
       "      <th>1</th>\n",
       "      <td>rainity_build_0.2222_1.0_0.5092_24_2.15_0.6156...</td>\n",
       "      <td>model_1_ptm_seed_0</td>\n",
       "      <td>3</td>\n",
       "      <td>0.23</td>\n",
       "      <td>91.73</td>\n",
       "      <td>0.58</td>\n",
       "      <td>0.67</td>\n",
       "      <td>5.160515</td>\n",
       "    </tr>\n",
       "  </tbody>\n",
       "</table>\n",
       "</div>"
      ],
      "text/plain": [
       "                                                name               model  \\\n",
       "0  rainity_build_0.2089_0.98_0.4653_19_2.00_0.005...  model_1_ptm_seed_0   \n",
       "1  rainity_build_0.2222_1.0_0.5092_24_2.15_0.6156...  model_1_ptm_seed_0   \n",
       "\n",
       "   recycle   tol  mean_plddt   ptM  rmsd        time  \n",
       "0        3  0.23       86.44  0.66  1.58  120.501117  \n",
       "1        3  0.23       91.73  0.58  0.67    5.160515  "
      ]
     },
     "execution_count": 89,
     "metadata": {},
     "output_type": "execute_result"
    }
   ],
   "source": [
    "#### superfold results to a df\n",
    "\n",
    "superfold_all_df = pd.read_csv(chA_superfold_output_dir + '/reports.txt', skiprows=0, sep = \" |:\", names = [\"name\",\"model\",\"xx.1\",\"recycle\",\"xx.2\",\"tol\",\"xx.3\",\"mean_plddt\", \"xx.4\",\"ptM\", \"xx.5\",\"rmsd\",\"xx.6\",\"xx.7\",\"xx.8\",\"xx\",\"time\"])\n",
    "superfold_all_df = superfold_all_df.drop(columns=[\"xx\",\"xx.1\",\"xx.2\",\"xx.3\",\"xx.4\",\"xx.5\",\"xx.6\",\"xx.7\",\"xx.8\"])\n",
    "superfold_all_df"
   ]
  },
  {
   "cell_type": "code",
   "execution_count": 127,
   "metadata": {},
   "outputs": [],
   "source": [
    "### combine Rosetta metrics with AFfold to a df\n",
    "\n",
    "df = pd.read_csv('all_scores_test.csv')\n",
    "\n",
    "AF2_lDDT_dict = pd.Series(superfold_all_df['mean_plddt'].values,superfold_all_df['name']).to_dict()\n",
    "AF2_rmsd_dict = pd.Series(superfold_all_df['rmsd'].values,superfold_all_df['name']).to_dict()\n",
    "score_per_res_dict = pd.Series(df['score_per_res'].values,df['description'].str.split(\"/\").str[-1]).to_dict()\n",
    "\n",
    "df['lDDT'] = df['description'].map(AF2_lDDT_dict) \n",
    "df['rmsd'] = df['description'].map(AF2_rmsd_dict)\n",
    "df['score_per_res'] = df['description'].map(score_per_res_dict)\n",
    "df['AF2_path'] = chA_superfold_output_dir + '/' + df['description'] + '_model_1_ptm_seed_0_unrelaxed.pdb'\n",
    "\n",
    "df.to_csv('all_scores_test.csv')"
   ]
  },
  {
   "cell_type": "code",
   "execution_count": 161,
   "metadata": {},
   "outputs": [
    {
     "data": {
      "image/png": "[encoded data removed]",
      "text/plain": [
       "<Figure size 1080x216 with 3 Axes>"
      ]
     },
     "metadata": {
      "needs_background": "light"
     },
     "output_type": "display_data"
    }
   ],
   "source": [
    "relevant_features = ['lDDT','rmsd']\n",
    "jupyter_utils.make_dist_plots_w_hue(df, relevant_features)"
   ]
  },
  {
   "cell_type": "code",
   "execution_count": 130,
   "metadata": {},
   "outputs": [
    {
     "data": {
      "text/plain": [
       "2"
      ]
     },
     "execution_count": 130,
     "metadata": {},
     "output_type": "execute_result"
    }
   ],
   "source": [
    "### filter monomers\n",
    "\n",
    "dfsub = df[(df['score_per_res']<-2.7) & (df['lDDT']>80) & (df['score_per_res']<-2.7)]\n",
    "dfsub['pdb_for_design'] = designed_monomers_all_dir + '/' + dfsub['description'].apply(str)\n",
    "len(dfsub['pdb_for_design'])"
   ]
  },
  {
   "cell_type": "code",
   "execution_count": 131,
   "metadata": {},
   "outputs": [
    {
     "name": "stderr",
     "output_type": "stream",
     "text": [
      "/software/conda/envs/OBSOLETE/deepchem/lib/python3.6/site-packages/scipy/stats/stats.py:1713: FutureWarning: Using a non-tuple sequence for multidimensional indexing is deprecated; use `arr[tuple(seq)]` instead of `arr[seq]`. In the future this will be interpreted as an array index, `arr[np.array(seq)]`, which will result either in an error or a different result.\n",
      "  return np.add.reduce(sorted[indexer] * weights, axis=axis) / sumval\n"
     ]
    },
    {
     "data": {
      "text/plain": [
       "<matplotlib.lines.Line2D at 0x7f5d77937b70>"
      ]
     },
     "execution_count": 131,
     "metadata": {},
     "output_type": "execute_result"
    },
    {
     "data": {
      "image/png": "[encoded data removed]",
      "text/plain": [
       "<Figure size 432x432 with 3 Axes>"
      ]
     },
     "metadata": {
      "needs_background": "light"
     },
     "output_type": "display_data"
    }
   ],
   "source": [
    "### plot lDDT vs. score/res\n",
    "xs = df['score_per_res']\n",
    "ys = df['lDDT']\n",
    "\n",
    "plot = sns.jointplot(xs,ys, kind='hex')\n",
    "plot.ax_joint.axvline(x=-2.7,linestyle='--',color='red')\n",
    "plot.ax_joint.axhline(y=80,linestyle='--',color='green')"
   ]
  },
  {
   "cell_type": "code",
   "execution_count": 133,
   "metadata": {},
   "outputs": [],
   "source": [
    "#copy to filtered designed monomers (AF)+(DM)\n",
    "\n",
    "chA_superfold_output_filtered_dir = run_dir + \"AF/chA_superfold_output_filtered\" ### new_dir\n",
    "os.makedirs(chA_superfold_output_filtered_dir, exist_ok=True)\n",
    "#dfsub['path'] = designed_monomers_dir + '/' + dfsub['description'].str.replace(\"rainity_\", \"\").str.replace(\"_0001\", \"\") + '/' + dfsub['description'] + '.pdb'\n",
    "\n",
    "for i,row in dfsub.iterrows():\n",
    "    DM_path = str(row['pdbpath'])\n",
    "    AF2_path = str(row['AF2_path'])\n",
    "    d = str(row['description'])\n",
    "    shutil.copy(AF2_path, f'{chA_superfold_output_filtered_dir}/{d}_AF.pdb')\n",
    "    shutil.copy(DM_path, f'{chA_superfold_output_filtered_dir}/{d}_DM.pdb')\n"
   ]
  },
  {
   "cell_type": "markdown",
   "metadata": {},
   "source": [
    "## Align monomers for cage design"
   ]
  },
  {
   "cell_type": "code",
   "execution_count": 158,
   "metadata": {},
   "outputs": [],
   "source": [
    "# generate cmd to align monomer_AF and monomer_DM back to cage scaffold\n",
    "\n",
    "os.makedirs(aligned_AF_monomers_dir, exist_ok=True)\n",
    "os.makedirs(aligned_DM_monomers_dir, exist_ok=True)\n",
    "#TMscore_dir = AF_monomers_filtered_dir + '/' + 'TMscore/'\n",
    "#os.makedirs(TMscore_dir, exist_ok=True)\n",
    "\n",
    "current_dir = \"/home/swang523/RLcage/capsid/\"\n",
    "cmdsfile = 'cmds_align-chA_cage'\n",
    "script = f'{current_dir}/scripts/pymol_make_bond_and_mol2.py'\n",
    "\n",
    "with open(cmdsfile, 'w') as f_out:\n",
    "    for i,row in dfsub.iterrows():\n",
    "        DM_path = str(row['pdbpath'])\n",
    "        AF2_path = str(row['AF2_path'])\n",
    "        pdb_DM_name = DM_path.split('/')[-1]\n",
    "        pdb_AF2_name = AF2_path.split('/')[-1]\n",
    "        \n",
    "        #d = str(row['description'])\n",
    "        dock =  chA_dir + '/' + str(row['description']).replace('rainity_','').replace('_0001','.pdb')\n",
    "        cmd1 = f\"/usr/bin/pymol -c {script} --input_pdb1 {AF2_path} --input_pdb2 {dock} --output_pdb1 {pdb_AF2_name}\" ## align AF-models to designs\n",
    "        cmd2 = f\"/usr/bin/pymol -c {script} --input_pdb1 {DM_path} --input_pdb2 {dock} --output_pdb1 {pdb_DM_name}\" ## align AF-models to designs\n",
    "                \n",
    "        aligned_AF2_pdb = aligned_AF_monomers_dir + '/' + pdb_DM_name.split('/')[-1].replace('_0001.','_0001_AF2_aligned.')\n",
    "        aligned_DM_pdb = aligned_DM_monomers_dir + '/' + pdb_DM_name.split('/')[-1].replace('_0001.','_0001_DM_aligned.')\n",
    "        cmd3 = f\"mv {current_dir}{pdb_AF2_name} {aligned_AF2_pdb}\"\n",
    "        cmd4 = f\"mv {current_dir}{pdb_DM_name} {aligned_DM_pdb}\"\n",
    "        f_out.write(cmd1 + '\\n' + cmd2 + '\\n' + cmd3 + '\\n' + cmd4 + '\\n')\n",
    "    \n",
    "\n",
    "#jupyter_utils.make_submit_file(cmds=cmdsfile, submitfile=submitfile, group_size=1000, mem='2G', queue='short')\n",
    "#p = subprocess.Popen(['sbatch', submitfile])"
   ]
  },
  {
   "cell_type": "markdown",
   "metadata": {},
   "source": [
    "## RosettaDesign cages with AF and DM monomers"
   ]
  },
  {
   "cell_type": "code",
   "execution_count": 165,
   "metadata": {},
   "outputs": [],
   "source": [
    "### input chainA\n",
    "import importlib\n",
    "import sys\n",
    "import os\n",
    "import shutil\n",
    "sys.path.append('protocols/')\n",
    "import design_cage\n",
    "import glob\n",
    "sys.path.append('scripts/')\n",
    "import jupyter_utils\n",
    "import subprocess\n",
    "\n",
    "# input pdbs (chainA)\n",
    "aligned_AF_monomers_dir\n",
    "aligned_DM_monomers_dir\n",
    "Aligned_AF_chA_pdbs = glob.glob(aligned_AF_monomers_dir + '/*.pdb')\n",
    "Aligned_DM_chA_pdbs = glob.glob(aligned_DM_monomers_dir + '/*.pdb')\n"
   ]
  },
  {
   "cell_type": "code",
   "execution_count": 167,
   "metadata": {},
   "outputs": [
    {
     "data": {
      "text/plain": [
       "['/home/swang523/RLcage/manuscript/computation_pipeline/test/monomers_fordesign/aligned_DM_chA/rainity_build_0.2222_1.0_0.5092_24_2.15_0.615602_0001_DM_aligned.pdb',\n",
       " '/home/swang523/RLcage/manuscript/computation_pipeline/test/monomers_fordesign/aligned_DM_chA/rainity_build_0.2089_0.98_0.4653_19_2.00_0.005745_0001_DM_aligned.pdb']"
      ]
     },
     "execution_count": 167,
     "metadata": {},
     "output_type": "execute_result"
    }
   ],
   "source": [
    "Aligned_DM_chA_pdbs"
   ]
  },
  {
   "cell_type": "code",
   "execution_count": 170,
   "metadata": {},
   "outputs": [],
   "source": [
    "# Design cage with interface pssm (designmodel)\n",
    "###############################\n",
    "rosexe = '/software/rosetta/latest/bin/rosetta_scripts.hdf5.linuxgccrelease'\n",
    "os.makedirs(predesigned_DM_cages_dir, exist_ok=True)\n",
    "\n",
    "cmdsfile = 'cmds_design_cage_DM'\n",
    "with open(cmdsfile, 'w') as f_cmds:\n",
    "    for pdbidx, Aligned_DM_chA in enumerate(Aligned_DM_chA_pdbs):\n",
    "        pdbname = Aligned_DM_chA.split('/')[-1][:-4]\n",
    "        pssm_name = pdbname.replace('_0001_DM_aligned','').replace('rainity_','')\n",
    "        pssm_f = f'{int_pssm_dir}/{pssm_name}.pssm'\n",
    "        xml = design_cage.make_script(pssm_f)\n",
    "            \n",
    "        chainA = f'{aligned_DM_monomers_dir}' + '/' + Aligned_DM_chA.split('/')[-1]\n",
    "        design_folder = f'{predesigned_DM_cages_dir}/{pdbname}'\n",
    "        protocol = f'{design_folder}/design_cage.xml'\n",
    "        os.makedirs(design_folder, exist_ok=True)\n",
    "        with open(protocol,'w') as f_out:\n",
    "            f_out.write(xml)\n",
    "            \n",
    "        shutil.copy('flags_cage_design#2',design_folder) ##flags_cage_design#1\n",
    "        cmd = f'{rosexe} -s {chainA} -parser:protocol design_cage.xml @flags_cage_design#2 -out:prefix cage_' ##flags_cage_design#1\n",
    "        with open(f'{design_folder}/run.sh','w') as f_out: \n",
    "            f_out.write(cmd +'\\n')\n",
    "            \n",
    "        # setup cmdfile\n",
    "        f_cmds.write(f'cd {design_folder}; bash run.sh; cd {current_dir}\\n')\n",
    "\n",
    "#submitfile = cmdsfile+'.sh'\n",
    "#jupyter_utils.make_submit_file(cmds=cmdsfile, submitfile=submitfile, group_size=1, mem='8G', queue='cpu')\n",
    "#p = subprocess.Popen(['sbatch', submitfile])"
   ]
  },
  {
   "cell_type": "code",
   "execution_count": 177,
   "metadata": {},
   "outputs": [],
   "source": [
    "# Design cage with interface pssm (AF2_chA)\n",
    "###############################\n",
    "rosexe = '/software/rosetta/latest/bin/rosetta_scripts.hdf5.linuxgccrelease'\n",
    "os.makedirs(predesigned_AF_cages_dir, exist_ok=True)\n",
    "\n",
    "cmdsfile = 'cmds_design_cage_AF2'\n",
    "with open(cmdsfile, 'w') as f_cmds:\n",
    "    for pdbidx, Aligned_AF_chA in enumerate(Aligned_AF_chA_pdbs):\n",
    "        pdbname = Aligned_AF_chA.split('/')[-1][:-4]\n",
    "        pssm_name = pdbname.replace('_0001_AF2_aligned','').replace('rainity_','')\n",
    "        pssm_f = f'{int_pssm_dir}/{pssm_name}.pssm'\n",
    "        xml = design_cage.make_script(pssm_f)\n",
    "            \n",
    "        chainA = f'{aligned_AF_monomers_dir}' + '/' + Aligned_AF_chA.split('/')[-1]\n",
    "        design_folder = f'{predesigned_AF_cages_dir}/{pdbname}'\n",
    "        protocol = f'{design_folder}/design_cage.xml'\n",
    "        os.makedirs(design_folder, exist_ok=True)\n",
    "        with open(protocol,'w') as f_out:\n",
    "            f_out.write(xml)\n",
    "            \n",
    "        shutil.copy('flags_cage_design#2',design_folder) ##flags_cage_design#1\n",
    "        cmd = f'{rosexe} -s {chainA} -parser:protocol design_cage.xml @flags_cage_design#2 -out:prefix cage_' ##flags_cage_design#1\n",
    "        with open(f'{design_folder}/run.sh','w') as f_out: \n",
    "            f_out.write(cmd +'\\n')\n",
    "            \n",
    "        # setup cmdfile\n",
    "        f_cmds.write(f'cd {design_folder}; bash run.sh; cd {current_dir}\\n')\n",
    "\n",
    "#submitfile = cmdsfile+'.sh'\n",
    "#jupyter_utils.make_submit_file(cmds=cmdsfile, submitfile=submitfile, group_size=1, mem='8G', queue='cpu')\n",
    "#p = subprocess.Popen(['sbatch', submitfile])"
   ]
  },
  {
   "cell_type": "markdown",
   "metadata": {},
   "source": [
    "## All scores - Alpha Fold - cage interfaces - individual interfaces"
   ]
  },
  {
   "cell_type": "markdown",
   "metadata": {},
   "source": [
    "#### Collect cage scores"
   ]
  },
  {
   "cell_type": "code",
   "execution_count": 6,
   "metadata": {},
   "outputs": [
    {
     "data": {
      "text/plain": [
       "2"
      ]
     },
     "execution_count": 6,
     "metadata": {},
     "output_type": "execute_result"
    }
   ],
   "source": [
    "# get DMcage scores\n",
    "###############################\n",
    "sys.path.append('protocols/')\n",
    "\n",
    "DM_score_paths = glob.glob( predesigned_DM_cages_dir + '/*/*.sc')\n",
    "\n",
    "DM_cage_dfs = []\n",
    "for score_pathsidx, score_path in enumerate(DM_score_paths):\n",
    "    df_f = pd.read_csv(f'{score_path}',skiprows=1,delim_whitespace=True)\n",
    "    #directory = '/net/scratch/swang523/capsid/8-16-21/cage_design_DMmonomer/2nd_round/DM_combined_pdbs'\n",
    "    #pdb_path = glob.glob(directory+'/*pdb')[0]\n",
    "    #df_f['pdbpath'] = pdb_path\n",
    "    DM_cage_dfs.append(df_f)\n",
    "\n",
    "DM_cage_dfs=pd.concat(DM_cage_dfs).dropna()\n",
    "DM_cage_dfs.to_csv('all_cage_scores_test_DM_1st.csv')\n",
    "#DM_cage_dfs = pd.read_csv('all_cage_scores_test_DM_1st.csv')\n",
    "len(DM_cage_dfs)\n"
   ]
  },
  {
   "cell_type": "code",
   "execution_count": 7,
   "metadata": {},
   "outputs": [
    {
     "data": {
      "text/plain": [
       "2"
      ]
     },
     "execution_count": 7,
     "metadata": {},
     "output_type": "execute_result"
    }
   ],
   "source": [
    "# get AFcage scores\n",
    "###############################\n",
    "### for loops to find score_path\n",
    "\n",
    "AF_score_paths = glob.glob( predesigned_AF_cages_dir + '/*/*.sc')\n",
    "\n",
    "AF_cage_dfs = []\n",
    "for score_pathsidx, score_path in enumerate(AF_score_paths):\n",
    "    df_f = pd.read_csv(f'{score_path}',skiprows=1,delim_whitespace=True)\n",
    "    #directory = '/net/scratch/swang523/capsid/8-16-21/cage_design_DMmonomer/2nd_round/DM_combined_pdbs'\n",
    "    #pdb_path = glob.glob(directory+'/*pdb')[0]\n",
    "    #df_f['pdbpath'] = pdb_path\n",
    "    AF_cage_dfs.append(df_f)\n",
    "\n",
    "AF_cage_dfs=pd.concat(AF_cage_dfs).dropna()\n",
    "AF_cage_dfs.to_csv('all_cage_scores_test_AF_1st.csv')\n",
    "#AF_cage_dfs = pd.read_csv('all_cage_scores_test_AF_1st.csv')\n",
    "len(AF_cage_dfs)"
   ]
  },
  {
   "cell_type": "code",
   "execution_count": null,
   "metadata": {},
   "outputs": [],
   "source": []
  },
  {
   "cell_type": "code",
   "execution_count": null,
   "metadata": {},
   "outputs": [],
   "source": [
    "### check key features\n",
    "\n",
    "relevant_features = ['AroCount','AlaCount','HPcCount','MetCount','sap_score','sc','sbuns_all_heavy','vbuns_all_heavy','contact_mol_surf_1comp','ddG','mismatch_probability','sasa','sc_median_dist']\n",
    "make_dist_plots_w_hue(AF_cage_dfs, relevant_features)   ### or DM_cage_dfs"
   ]
  },
  {
   "cell_type": "markdown",
   "metadata": {},
   "source": [
    "#### AlphaFold cage_monomer lDDT and rmsd"
   ]
  },
  {
   "cell_type": "code",
   "execution_count": 12,
   "metadata": {},
   "outputs": [],
   "source": [
    "# extract chain A for 1st DM and 1st AF\n",
    "################################################\n",
    "\n",
    "capsid_1st_DM = glob.glob(predesigned_DM_cages_dir + '/*/*pdb')\n",
    "# 1st AF designed cages\n",
    "capsid_1st_AF = glob.glob(predesigned_AF_cages_dir + '/*/*pdb')\n",
    "\n",
    "os.makedirs(predesigned_DM_cages_all_chA_dir, exist_ok=True)\n",
    "os.makedirs(predesigned_AF_cages_all_chA_dir, exist_ok=True)\n",
    "\n",
    "###### extract chain A for 1st DM\n",
    "cmdsfile1 = 'cmds_extract_chA_from_designed_capsids' ###\n",
    "with open(cmdsfile1, 'w') as f_out:\n",
    "    for pdb in capsid_1st_DM:   ### AF\n",
    "        output_dir = predesigned_DM_cages_all_chA_dir   ### AF\n",
    "        cmd1 = f\"/usr/bin/pymol -c scripts/extract_chains.py --only_chainA 1 --pdb_in {pdb} --pdb_out {output_dir}/{pdb.split('/')[-1]}\"\n",
    "        f_out.write(cmd1+'\\n')\n",
    "\n",
    "###### extract chain A for 1st AF       \n",
    "cmdsfile2 = 'cmds_extract_chA_from_designed_capsids' \n",
    "with open(cmdsfile2, 'a') as f_out:\n",
    "    for pdb in capsid_1st_AF:\n",
    "        output_dir = predesigned_AF_cages_all_chA_dir\n",
    "        cmd2 = f\"/usr/bin/pymol -c scripts/extract_chains.py --only_chainA 1 --pdb_in {pdb} --pdb_out {output_dir}/{pdb.split('/')[-1]}\"\n",
    "        f_out.write(cmd2 +'\\n')\n",
    "#submitfile = cmdsfile+'.sh'\n",
    "#jupyter_utils.make_submit_file(cmds=cmdsfile, submitfile=submitfile, group_size=1000)\n",
    "#p = subprocess.Popen(['sbatch', submitfile])"
   ]
  },
  {
   "cell_type": "code",
   "execution_count": 5,
   "metadata": {},
   "outputs": [],
   "source": [
    "### superfold filtered designed monomers to get mean pLDDT and rmsd\n",
    "\n",
    "cage_chA_superfold_output_dir = run_dir + \"AF/cage_chA_superfold_output\" ### new_dir\n",
    "os.makedirs(cage_chA_superfold_output_dir, exist_ok=True)\n",
    "\n",
    "cmdsfile = 'cmds_superfold'\n",
    "\n",
    "with open(cmdsfile, 'w') as f_out:\n",
    "    f_out.write(\"/software/lab/superfold/superfold\")\n",
    "    f_out.close()\n",
    "\n",
    "with open(cmdsfile, 'a') as f_out:\n",
    "    for cage_DM_chA in glob.glob(predesigned_DM_cages_all_chA_dir + '/*pdb'):\n",
    "        cmd = f\"{cage_DM_chA}\"\n",
    "        f_out.write(\" \" + cmd)\n",
    "        \n",
    "with open(cmdsfile, 'a') as f_out:\n",
    "    for cage_AF_chA in glob.glob(predesigned_AF_cages_all_chA_dir + '/*pdb'):\n",
    "        cmd = f\"{cage_AF_chA}\"\n",
    "        f_out.write(\" \" + cmd)\n",
    "\n",
    "with open(cmdsfile, 'a') as f_out:\n",
    "    f_out.write(\" --out_dir \" +cage_chA_superfold_output_dir + \" --models 4 --output_summary\")\n",
    "    f_out.close\n"
   ]
  },
  {
   "cell_type": "markdown",
   "metadata": {},
   "source": [
    "#### Collect AlphaFold monomer lDDT rmsd"
   ]
  },
  {
   "cell_type": "code",
   "execution_count": 25,
   "metadata": {},
   "outputs": [
    {
     "name": "stderr",
     "output_type": "stream",
     "text": [
      "/software/conda/envs/OBSOLETE/deepchem/lib/python3.6/site-packages/ipykernel_launcher.py:3: ParserWarning: Falling back to the 'python' engine because the 'c' engine does not support regex separators (separators > 1 char and different from '\\s+' are interpreted as regex); you can avoid this warning by specifying engine='python'.\n",
      "  This is separate from the ipykernel package so we can avoid doing imports until\n"
     ]
    },
    {
     "data": {
      "text/html": [
       "<div>\n",
       "<style scoped>\n",
       "    .dataframe tbody tr th:only-of-type {\n",
       "        vertical-align: middle;\n",
       "    }\n",
       "\n",
       "    .dataframe tbody tr th {\n",
       "        vertical-align: top;\n",
       "    }\n",
       "\n",
       "    .dataframe thead th {\n",
       "        text-align: right;\n",
       "    }\n",
       "</style>\n",
       "<table border=\"1\" class=\"dataframe\">\n",
       "  <thead>\n",
       "    <tr style=\"text-align: right;\">\n",
       "      <th></th>\n",
       "      <th>Unnamed: 0</th>\n",
       "      <th>SCORE:</th>\n",
       "      <th>total_score</th>\n",
       "      <th>AlaCount</th>\n",
       "      <th>AroCount</th>\n",
       "      <th>HPcCount</th>\n",
       "      <th>MetCount</th>\n",
       "      <th>approximate_buried_unsat_penalty</th>\n",
       "      <th>arg_cation_pi</th>\n",
       "      <th>chainA__selection_count</th>\n",
       "      <th>...</th>\n",
       "      <th>ss_count</th>\n",
       "      <th>timed</th>\n",
       "      <th>vbuns_all_heavy</th>\n",
       "      <th>description</th>\n",
       "      <th>model</th>\n",
       "      <th>lDDT</th>\n",
       "      <th>rmsd</th>\n",
       "      <th>ptM</th>\n",
       "      <th>tol</th>\n",
       "      <th>AF2_path</th>\n",
       "    </tr>\n",
       "  </thead>\n",
       "  <tbody>\n",
       "    <tr>\n",
       "      <th>0</th>\n",
       "      <td>0</td>\n",
       "      <td>SCORE:</td>\n",
       "      <td>-367.805</td>\n",
       "      <td>9.0</td>\n",
       "      <td>4.0</td>\n",
       "      <td>9.0</td>\n",
       "      <td>5.0</td>\n",
       "      <td>2102.0</td>\n",
       "      <td>-4.775</td>\n",
       "      <td>67.0</td>\n",
       "      <td>...</td>\n",
       "      <td>3.0</td>\n",
       "      <td>8601.0</td>\n",
       "      <td>0.0</td>\n",
       "      <td>cage_rainity_build_0.2089_0.98_0.4653_19_2.00_...</td>\n",
       "      <td>model_4_ptm_seed_0</td>\n",
       "      <td>83.73</td>\n",
       "      <td>1.06</td>\n",
       "      <td>0.69</td>\n",
       "      <td>0.23</td>\n",
       "      <td>/home/swang523/RLcage/manuscript/computation_p...</td>\n",
       "    </tr>\n",
       "    <tr>\n",
       "      <th>1</th>\n",
       "      <td>0</td>\n",
       "      <td>SCORE:</td>\n",
       "      <td>-349.638</td>\n",
       "      <td>6.0</td>\n",
       "      <td>3.0</td>\n",
       "      <td>19.0</td>\n",
       "      <td>2.0</td>\n",
       "      <td>2124.0</td>\n",
       "      <td>0.000</td>\n",
       "      <td>54.0</td>\n",
       "      <td>...</td>\n",
       "      <td>3.0</td>\n",
       "      <td>8840.0</td>\n",
       "      <td>0.0</td>\n",
       "      <td>cage_rainity_build_0.2222_1.0_0.5092_24_2.15_0...</td>\n",
       "      <td>model_4_ptm_seed_0</td>\n",
       "      <td>74.87</td>\n",
       "      <td>10.43</td>\n",
       "      <td>0.33</td>\n",
       "      <td>1.81</td>\n",
       "      <td>/home/swang523/RLcage/manuscript/computation_p...</td>\n",
       "    </tr>\n",
       "    <tr>\n",
       "      <th>0</th>\n",
       "      <td>0</td>\n",
       "      <td>SCORE:</td>\n",
       "      <td>-432.043</td>\n",
       "      <td>8.0</td>\n",
       "      <td>8.0</td>\n",
       "      <td>11.0</td>\n",
       "      <td>1.0</td>\n",
       "      <td>1816.0</td>\n",
       "      <td>-6.318</td>\n",
       "      <td>67.0</td>\n",
       "      <td>...</td>\n",
       "      <td>3.0</td>\n",
       "      <td>9321.0</td>\n",
       "      <td>0.0</td>\n",
       "      <td>cage_rainity_build_0.2089_0.98_0.4653_19_2.00_...</td>\n",
       "      <td>model_4_ptm_seed_0</td>\n",
       "      <td>90.60</td>\n",
       "      <td>0.92</td>\n",
       "      <td>0.75</td>\n",
       "      <td>0.05</td>\n",
       "      <td>/home/swang523/RLcage/manuscript/computation_p...</td>\n",
       "    </tr>\n",
       "    <tr>\n",
       "      <th>1</th>\n",
       "      <td>0</td>\n",
       "      <td>SCORE:</td>\n",
       "      <td>-355.331</td>\n",
       "      <td>7.0</td>\n",
       "      <td>3.0</td>\n",
       "      <td>18.0</td>\n",
       "      <td>1.0</td>\n",
       "      <td>1785.0</td>\n",
       "      <td>0.000</td>\n",
       "      <td>54.0</td>\n",
       "      <td>...</td>\n",
       "      <td>3.0</td>\n",
       "      <td>9097.0</td>\n",
       "      <td>0.0</td>\n",
       "      <td>cage_rainity_build_0.2222_1.0_0.5092_24_2.15_0...</td>\n",
       "      <td>model_4_ptm_seed_0</td>\n",
       "      <td>87.68</td>\n",
       "      <td>0.49</td>\n",
       "      <td>0.57</td>\n",
       "      <td>0.27</td>\n",
       "      <td>/home/swang523/RLcage/manuscript/computation_p...</td>\n",
       "    </tr>\n",
       "  </tbody>\n",
       "</table>\n",
       "<p>4 rows × 68 columns</p>\n",
       "</div>"
      ],
      "text/plain": [
       "   Unnamed: 0  SCORE:  total_score  AlaCount  AroCount  HPcCount  MetCount  \\\n",
       "0           0  SCORE:     -367.805       9.0       4.0       9.0       5.0   \n",
       "1           0  SCORE:     -349.638       6.0       3.0      19.0       2.0   \n",
       "0           0  SCORE:     -432.043       8.0       8.0      11.0       1.0   \n",
       "1           0  SCORE:     -355.331       7.0       3.0      18.0       1.0   \n",
       "\n",
       "   approximate_buried_unsat_penalty  arg_cation_pi  chainA__selection_count  \\\n",
       "0                            2102.0         -4.775                     67.0   \n",
       "1                            2124.0          0.000                     54.0   \n",
       "0                            1816.0         -6.318                     67.0   \n",
       "1                            1785.0          0.000                     54.0   \n",
       "\n",
       "                         ...                          ss_count   timed  \\\n",
       "0                        ...                               3.0  8601.0   \n",
       "1                        ...                               3.0  8840.0   \n",
       "0                        ...                               3.0  9321.0   \n",
       "1                        ...                               3.0  9097.0   \n",
       "\n",
       "   vbuns_all_heavy                                        description  \\\n",
       "0              0.0  cage_rainity_build_0.2089_0.98_0.4653_19_2.00_...   \n",
       "1              0.0  cage_rainity_build_0.2222_1.0_0.5092_24_2.15_0...   \n",
       "0              0.0  cage_rainity_build_0.2089_0.98_0.4653_19_2.00_...   \n",
       "1              0.0  cage_rainity_build_0.2222_1.0_0.5092_24_2.15_0...   \n",
       "\n",
       "                model   lDDT   rmsd   ptM   tol  \\\n",
       "0  model_4_ptm_seed_0  83.73   1.06  0.69  0.23   \n",
       "1  model_4_ptm_seed_0  74.87  10.43  0.33  1.81   \n",
       "0  model_4_ptm_seed_0  90.60   0.92  0.75  0.05   \n",
       "1  model_4_ptm_seed_0  87.68   0.49  0.57  0.27   \n",
       "\n",
       "                                            AF2_path  \n",
       "0  /home/swang523/RLcage/manuscript/computation_p...  \n",
       "1  /home/swang523/RLcage/manuscript/computation_p...  \n",
       "0  /home/swang523/RLcage/manuscript/computation_p...  \n",
       "1  /home/swang523/RLcage/manuscript/computation_p...  \n",
       "\n",
       "[4 rows x 68 columns]"
      ]
     },
     "execution_count": 25,
     "metadata": {},
     "output_type": "execute_result"
    }
   ],
   "source": [
    "### combine Rosetta metrics with AFfold to a df\n",
    "\n",
    "superfold_cage_chA_all_df = pd.read_csv(cage_chA_superfold_output_dir + '/reports.txt', skiprows=0, sep = \" |:\", names = [\"name\",\"model\",\"xx.1\",\"recycle\",\"xx.2\",\"tol\",\"xx.3\",\"mean_plddt\", \"xx.4\",\"ptM\", \"xx.5\",\"rmsd\",\"xx.6\",\"xx.7\",\"xx.8\",\"xx\",\"time\"])\n",
    "superfold_cage_chA_all_df = superfold_cage_chA_all_df.drop(columns=[\"xx\",\"xx.1\",\"xx.2\",\"xx.3\",\"xx.4\",\"xx.5\",\"xx.6\",\"xx.7\",\"xx.8\"])\n",
    "\n",
    "DM_cage_dfs = pd.read_csv('all_cage_scores_test_DM_1st.csv')\n",
    "AF_cage_dfs = pd.read_csv('all_cage_scores_test_AF_1st.csv')\n",
    "\n",
    "frames = [AF_cage_dfs, DM_cage_dfs]\n",
    "all_cage_dfs = pd.concat(frames)\n",
    "\n",
    "AF2_model_dict = pd.Series(superfold_cage_chA_all_df['model'].values,superfold_cage_chA_all_df['name']).to_dict()\n",
    "AF2_lDDT_dict = pd.Series(superfold_cage_chA_all_df['mean_plddt'].values,superfold_cage_chA_all_df['name']).to_dict()\n",
    "AF2_rmsd_dict = pd.Series(superfold_cage_chA_all_df['rmsd'].values,superfold_cage_chA_all_df['name']).to_dict()\n",
    "AF2_ptM_dict = pd.Series(superfold_cage_chA_all_df['ptM'].values,superfold_cage_chA_all_df['name']).to_dict()\n",
    "AF2_tol_dict = pd.Series(superfold_cage_chA_all_df['tol'].values,superfold_cage_chA_all_df['name']).to_dict()\n",
    "\n",
    "all_cage_dfs['model'] = all_cage_dfs['description'].map(AF2_model_dict)\n",
    "all_cage_dfs['lDDT'] = all_cage_dfs['description'].map(AF2_lDDT_dict) \n",
    "all_cage_dfs['rmsd'] = all_cage_dfs['description'].map(AF2_rmsd_dict)\n",
    "all_cage_dfs['ptM'] = all_cage_dfs['description'].map(AF2_ptM_dict)\n",
    "all_cage_dfs['tol'] = all_cage_dfs['description'].map(AF2_tol_dict)\n",
    "all_cage_dfs['AF2_path'] = cage_chA_superfold_output_dir + '/' + all_cage_dfs['description'] + '_'+ all_cage_dfs['model'] + '_unrelaxed.pdb'\n",
    "\n",
    "all_cage_dfs.to_csv('all_cage_scores_test.csv')\n",
    "all_cage_dfs"
   ]
  },
  {
   "cell_type": "code",
   "execution_count": 26,
   "metadata": {},
   "outputs": [
    {
     "name": "stderr",
     "output_type": "stream",
     "text": [
      "/software/conda/envs/OBSOLETE/deepchem/lib/python3.6/site-packages/scipy/stats/stats.py:1713: FutureWarning: Using a non-tuple sequence for multidimensional indexing is deprecated; use `arr[tuple(seq)]` instead of `arr[seq]`. In the future this will be interpreted as an array index, `arr[np.array(seq)]`, which will result either in an error or a different result.\n",
      "  return np.add.reduce(sorted[indexer] * weights, axis=axis) / sumval\n"
     ]
    },
    {
     "data": {
      "image/png": "[encoded data removed]",
      "text/plain": [
       "<Figure size 1080x216 with 3 Axes>"
      ]
     },
     "metadata": {
      "needs_background": "light"
     },
     "output_type": "display_data"
    }
   ],
   "source": [
    "relevant_features = ['lDDT','rmsd','ptM']\n",
    "make_dist_plots_w_hue(all_cage_dfs, relevant_features)"
   ]
  },
  {
   "cell_type": "markdown",
   "metadata": {},
   "source": [
    "#### Score and filter on individual vsinterfaces"
   ]
  },
  {
   "cell_type": "code",
   "execution_count": 28,
   "metadata": {},
   "outputs": [],
   "source": [
    "### use the \"find_interface_types.ipynb\" to extract interfaces pdbs\n",
    "extracted_DM_interfaces_dir = predesigned_DM_cages_all_chA_dir + '/interfaces/'\n",
    "extracted_AF_interfaces_dir = predesigned_AF_cages_all_chA_dir + '/interfaces/'"
   ]
  },
  {
   "cell_type": "code",
   "execution_count": 32,
   "metadata": {},
   "outputs": [],
   "source": [
    "#### score DM interfaces with Rosetta (dimer/trimer/pentamers)\n",
    "\n",
    "rosexe = '/software/rosetta/latest/bin/rosetta_scripts.hdf5.linuxgccrelease'\n",
    "outdir = extracted_DM_interfaces_dir + '/scored'\n",
    "os.makedirs(outdir, exist_ok=True)\n",
    "\n",
    "extracted_DM_interfaces = glob.glob(extracted_DM_interfaces_dir + '/*.pdb')\n",
    "\n",
    "cmdsfile = 'cmds_score_interfaces_DM'\n",
    "with open(cmdsfile, 'w') as f_cmds:\n",
    "    for pdbidx, interface in enumerate(extracted_DM_interfaces):\n",
    "        pdbname = interface.split('/')[-1][:-4]\n",
    "        input_pdb = f'{extracted_DM_interfaces_dir}' + '/' + interface.split('/')[-1]\n",
    "        design_folder = f'{outdir}/{pdbname}'\n",
    "        os.makedirs(design_folder, exist_ok=True)\n",
    "                    \n",
    "        shutil.copy(current_dir + '/protocols/score_interfaces.xml',design_folder) \n",
    "        shutil.copy(current_dir + '/protocols/flags_score_interface',design_folder)\n",
    "        cmd = f'{rosexe} -s {input_pdb} -parser:protocol score_interfaces.xml @flags_score_interface' \n",
    "        with open(f'{design_folder}/run.sh','w') as f_out: \n",
    "            f_out.write(cmd +'\\n')\n",
    "            \n",
    "        # setup cmdfile\n",
    "        f_cmds.write(f'cd {design_folder}; bash run.sh; cd {current_dir}\\n')\n",
    "\n",
    "#submitfile = cmdsfile+'.sh'\n",
    "#jupyter_utils.make_submit_file(cmds=cmdsfile, submitfile=submitfile, group_size=1, mem='6G', queue='cpu')\n",
    "#p = subprocess.Popen(['sbatch', submitfile])"
   ]
  },
  {
   "cell_type": "code",
   "execution_count": 33,
   "metadata": {},
   "outputs": [],
   "source": [
    "#### score AF interfaces (dimer/trimer/pentamers)\n",
    "\n",
    "rosexe = '/software/rosetta/latest/bin/rosetta_scripts.hdf5.linuxgccrelease'\n",
    "outdir = extracted_AF_interfaces_dir + '/scored' \n",
    "os.makedirs(outdir, exist_ok=True)\n",
    "\n",
    "extracted_AF_interfaces = glob.glob(extracted_AF_interfaces_dir + '/*.pdb')\n",
    "\n",
    "cmdsfile = 'cmds_score_interfaces'\n",
    "with open(cmdsfile, 'w') as f_cmds:\n",
    "    for pdbidx, interface in enumerate(extracted_AF_interfaces):\n",
    "        pdbname = interface.split('/')[-1][:-4]\n",
    "        input_pdb = f'{extracted_AF_interfaces_dir}' + '/' + interface.split('/')[-1]\n",
    "        design_folder = f'{outdir}/{pdbname}'\n",
    "        os.makedirs(design_folder, exist_ok=True)\n",
    "                    \n",
    "        shutil.copy(current_dir + '/protocols/score_interfaces.xml',design_folder) \n",
    "        shutil.copy(current_dir + '/protocols/flags_score_interface',design_folder)\n",
    "        cmd = f'{rosexe} -s {input_pdb} -parser:protocol score_interfaces.xml @flags_score_interface' \n",
    "        with open(f'{design_folder}/run.sh','w') as f_out: \n",
    "            f_out.write(cmd +'\\n')\n",
    "            \n",
    "        # setup cmdfile\n",
    "        f_cmds.write(f'cd {design_folder}; bash run.sh; cd {current_dir}\\n')\n",
    "\n",
    "#submitfile = cmdsfile+'.sh'\n",
    "#jupyter_utils.make_submit_file(cmds=cmdsfile, submitfile=submitfile, group_size=1, mem='6G', queue='cpu')\n",
    "#p = subprocess.Popen(['sbatch', submitfile])"
   ]
  },
  {
   "cell_type": "code",
   "execution_count": 66,
   "metadata": {},
   "outputs": [
    {
     "data": {
      "text/plain": [
       "4"
      ]
     },
     "execution_count": 66,
     "metadata": {},
     "output_type": "execute_result"
    }
   ],
   "source": [
    "#### combine dimer/trimer/pentamer in one df\n",
    "\n",
    "AF_score_paths = glob.glob( extracted_AF_interfaces_dir + '/scored/*_trimer/score.sc')\n",
    "DM_score_paths = glob.glob( extracted_DM_interfaces_dir + '/scored/*_trimer/score.sc')\n",
    "\n",
    "score_paths = AF_score_paths + DM_score_paths\n",
    "\n",
    "def get_name(s):\n",
    "    return '_'.join(s.split('_')[:-2])\n",
    "\n",
    "dfs = []\n",
    "for score_pathsidx, score_path in enumerate(score_paths):\n",
    "    # Read the individual scores\n",
    "    trimer_f = score_path\n",
    "    pentamer_f = score_path.replace('trimer','pentamer')\n",
    "    dimer_f = score_path.replace('trimer','dimer')\n",
    "    \n",
    "    df_3 = pd.read_csv(f'{trimer_f}',skiprows=1,delim_whitespace=True)\n",
    "    df_5 = pd.read_csv(f'{pentamer_f}',skiprows=1,delim_whitespace=True)\n",
    "    df_2 = pd.read_csv(f'{dimer_f}',skiprows=1,delim_whitespace=True)\n",
    "    \n",
    "    # Add suffixes\n",
    "    new_name_map = {x:x+'_3' for x in df_3.columns}\n",
    "    df_3 = df_3.rename(columns=new_name_map)\n",
    "    \n",
    "    new_name_map = {x:x+'_2' for x in df_2.columns}\n",
    "    df_2 = df_2.rename(columns=new_name_map)\n",
    "\n",
    "    new_name_map = {x:x+'_5' for x in df_5.columns}\n",
    "    df_5 = df_5.rename(columns=new_name_map)\n",
    "    \n",
    "    # add a mergable name\n",
    "    df_2['name'] = df_2.apply(lambda x: get_name(x['description_2']), axis=1)\n",
    "    df_3['name'] = df_3.apply(lambda x: get_name(x['description_3']), axis=1)\n",
    "    df_5['name'] = df_5.apply(lambda x: get_name(x['description_5']), axis=1)\n",
    "   \n",
    "    df_merge = df_2.merge(df_3)\n",
    "    df_merge = df_merge.merge(df_5)\n",
    "    dfs.append(df_merge)\n",
    "\n",
    "df_combined = pd.concat(dfs)\n",
    "\n",
    "df_combined = df_combined.drop_duplicates(subset=['description_5']) #### some bugs causing DM set showing duplicated rows\n",
    "len(df_combined)"
   ]
  },
  {
   "cell_type": "code",
   "execution_count": 67,
   "metadata": {},
   "outputs": [
    {
     "data": {
      "text/html": [
       "<div>\n",
       "<style scoped>\n",
       "    .dataframe tbody tr th:only-of-type {\n",
       "        vertical-align: middle;\n",
       "    }\n",
       "\n",
       "    .dataframe tbody tr th {\n",
       "        vertical-align: top;\n",
       "    }\n",
       "\n",
       "    .dataframe thead th {\n",
       "        text-align: right;\n",
       "    }\n",
       "</style>\n",
       "<table border=\"1\" class=\"dataframe\">\n",
       "  <thead>\n",
       "    <tr style=\"text-align: right;\">\n",
       "      <th></th>\n",
       "      <th>SCORE:_2</th>\n",
       "      <th>total_score_2</th>\n",
       "      <th>binder_delta_sap_2</th>\n",
       "      <th>buns_heavy_ball_1.1D_2</th>\n",
       "      <th>contact_molec_sq5_ap_target_2</th>\n",
       "      <th>contact_molec_sq5_apap_target_2</th>\n",
       "      <th>contact_molecular_surface_2</th>\n",
       "      <th>contact_molecular_surface_ap_target_2</th>\n",
       "      <th>contact_molecular_surface_apap_target_2</th>\n",
       "      <th>ddg_2</th>\n",
       "      <th>...</th>\n",
       "      <th>interface_sc_5</th>\n",
       "      <th>interface_sc_int_area_5</th>\n",
       "      <th>interface_sc_median_dist_5</th>\n",
       "      <th>sap_score_5</th>\n",
       "      <th>sap_score_target_5</th>\n",
       "      <th>score_per_res_5</th>\n",
       "      <th>ss_sc_5</th>\n",
       "      <th>target_delta_sap_5</th>\n",
       "      <th>timed_5</th>\n",
       "      <th>description_5</th>\n",
       "    </tr>\n",
       "  </thead>\n",
       "  <tbody>\n",
       "    <tr>\n",
       "      <th>0</th>\n",
       "      <td>SCORE:</td>\n",
       "      <td>0.0</td>\n",
       "      <td>9.870</td>\n",
       "      <td>0.0</td>\n",
       "      <td>3145.686</td>\n",
       "      <td>3105.748</td>\n",
       "      <td>342.477</td>\n",
       "      <td>195.809</td>\n",
       "      <td>183.979</td>\n",
       "      <td>-33.316</td>\n",
       "      <td>...</td>\n",
       "      <td>0.617</td>\n",
       "      <td>625.486</td>\n",
       "      <td>0.639</td>\n",
       "      <td>43.129</td>\n",
       "      <td>43.129</td>\n",
       "      <td>-1.906</td>\n",
       "      <td>0.761</td>\n",
       "      <td>14.963</td>\n",
       "      <td>3.0</td>\n",
       "      <td>cage_rainity_build_0.2089_0.98_0.4653_19_2.00_...</td>\n",
       "    </tr>\n",
       "    <tr>\n",
       "      <th>0</th>\n",
       "      <td>SCORE:</td>\n",
       "      <td>0.0</td>\n",
       "      <td>18.211</td>\n",
       "      <td>0.0</td>\n",
       "      <td>3242.406</td>\n",
       "      <td>3112.932</td>\n",
       "      <td>347.274</td>\n",
       "      <td>210.176</td>\n",
       "      <td>194.076</td>\n",
       "      <td>-30.576</td>\n",
       "      <td>...</td>\n",
       "      <td>0.834</td>\n",
       "      <td>575.695</td>\n",
       "      <td>0.333</td>\n",
       "      <td>78.301</td>\n",
       "      <td>78.301</td>\n",
       "      <td>-1.961</td>\n",
       "      <td>0.802</td>\n",
       "      <td>22.258</td>\n",
       "      <td>2.0</td>\n",
       "      <td>cage_rainity_build_0.2222_1.0_0.5092_24_2.15_0...</td>\n",
       "    </tr>\n",
       "    <tr>\n",
       "      <th>0</th>\n",
       "      <td>SCORE:</td>\n",
       "      <td>0.0</td>\n",
       "      <td>22.493</td>\n",
       "      <td>2.0</td>\n",
       "      <td>3796.850</td>\n",
       "      <td>3824.777</td>\n",
       "      <td>317.470</td>\n",
       "      <td>261.046</td>\n",
       "      <td>253.514</td>\n",
       "      <td>-36.481</td>\n",
       "      <td>...</td>\n",
       "      <td>0.760</td>\n",
       "      <td>651.810</td>\n",
       "      <td>0.441</td>\n",
       "      <td>70.698</td>\n",
       "      <td>70.698</td>\n",
       "      <td>-2.090</td>\n",
       "      <td>0.819</td>\n",
       "      <td>15.583</td>\n",
       "      <td>2.0</td>\n",
       "      <td>cage_rainity_build_0.2222_1.0_0.5092_24_2.15_0...</td>\n",
       "    </tr>\n",
       "    <tr>\n",
       "      <th>0</th>\n",
       "      <td>SCORE:</td>\n",
       "      <td>0.0</td>\n",
       "      <td>14.211</td>\n",
       "      <td>2.0</td>\n",
       "      <td>3692.146</td>\n",
       "      <td>3643.812</td>\n",
       "      <td>338.438</td>\n",
       "      <td>236.481</td>\n",
       "      <td>227.853</td>\n",
       "      <td>-39.649</td>\n",
       "      <td>...</td>\n",
       "      <td>0.790</td>\n",
       "      <td>617.207</td>\n",
       "      <td>0.481</td>\n",
       "      <td>61.591</td>\n",
       "      <td>61.589</td>\n",
       "      <td>-2.308</td>\n",
       "      <td>0.796</td>\n",
       "      <td>14.708</td>\n",
       "      <td>2.0</td>\n",
       "      <td>cage_rainity_build_0.2089_0.98_0.4653_19_2.00_...</td>\n",
       "    </tr>\n",
       "  </tbody>\n",
       "</table>\n",
       "<p>4 rows × 64 columns</p>\n",
       "</div>"
      ],
      "text/plain": [
       "  SCORE:_2  total_score_2  binder_delta_sap_2  buns_heavy_ball_1.1D_2  \\\n",
       "0   SCORE:            0.0               9.870                     0.0   \n",
       "0   SCORE:            0.0              18.211                     0.0   \n",
       "0   SCORE:            0.0              22.493                     2.0   \n",
       "0   SCORE:            0.0              14.211                     2.0   \n",
       "\n",
       "   contact_molec_sq5_ap_target_2  contact_molec_sq5_apap_target_2  \\\n",
       "0                       3145.686                         3105.748   \n",
       "0                       3242.406                         3112.932   \n",
       "0                       3796.850                         3824.777   \n",
       "0                       3692.146                         3643.812   \n",
       "\n",
       "   contact_molecular_surface_2  contact_molecular_surface_ap_target_2  \\\n",
       "0                      342.477                                195.809   \n",
       "0                      347.274                                210.176   \n",
       "0                      317.470                                261.046   \n",
       "0                      338.438                                236.481   \n",
       "\n",
       "   contact_molecular_surface_apap_target_2   ddg_2  \\\n",
       "0                                  183.979 -33.316   \n",
       "0                                  194.076 -30.576   \n",
       "0                                  253.514 -36.481   \n",
       "0                                  227.853 -39.649   \n",
       "\n",
       "                         ...                          interface_sc_5  \\\n",
       "0                        ...                                   0.617   \n",
       "0                        ...                                   0.834   \n",
       "0                        ...                                   0.760   \n",
       "0                        ...                                   0.790   \n",
       "\n",
       "   interface_sc_int_area_5  interface_sc_median_dist_5  sap_score_5  \\\n",
       "0                  625.486                       0.639       43.129   \n",
       "0                  575.695                       0.333       78.301   \n",
       "0                  651.810                       0.441       70.698   \n",
       "0                  617.207                       0.481       61.591   \n",
       "\n",
       "   sap_score_target_5  score_per_res_5  ss_sc_5  target_delta_sap_5  timed_5  \\\n",
       "0              43.129           -1.906    0.761              14.963      3.0   \n",
       "0              78.301           -1.961    0.802              22.258      2.0   \n",
       "0              70.698           -2.090    0.819              15.583      2.0   \n",
       "0              61.589           -2.308    0.796              14.708      2.0   \n",
       "\n",
       "                                       description_5  \n",
       "0  cage_rainity_build_0.2089_0.98_0.4653_19_2.00_...  \n",
       "0  cage_rainity_build_0.2222_1.0_0.5092_24_2.15_0...  \n",
       "0  cage_rainity_build_0.2222_1.0_0.5092_24_2.15_0...  \n",
       "0  cage_rainity_build_0.2089_0.98_0.4653_19_2.00_...  \n",
       "\n",
       "[4 rows x 64 columns]"
      ]
     },
     "execution_count": 67,
     "metadata": {},
     "output_type": "execute_result"
    }
   ],
   "source": [
    "df_combined.to_csv('all_interface_scores_test.csv')\n",
    "df_combined"
   ]
  },
  {
   "cell_type": "markdown",
   "metadata": {},
   "source": [
    "#### Combine all scores (cage_monomer_interfaces) in 1 file"
   ]
  },
  {
   "cell_type": "code",
   "execution_count": 81,
   "metadata": {},
   "outputs": [],
   "source": [
    "### combine all scores\n",
    "\n",
    "df = pd.read_csv('all_interface_scores_test.csv')   ### all_interface_scores_1stDM_11-19-21.csv\n",
    "df['design'] = df['description_5'].str.replace('_pentamer_0001','')\n",
    "\n",
    "All_scores_df = pd.read_csv('all_cage_scores_test.csv') ###cage_design_1st_DM_rmsd_11-19-21.csv\n",
    "\n",
    "ddG2_dict = pd.Series(df['ddg_2'].values,df['design']).to_dict()\n",
    "ddG3_dict = pd.Series(df['ddg_3'].values,df['design']).to_dict()\n",
    "ddG5_dict = pd.Series(df['ddg_5'].values,df['design']).to_dict()\n",
    "\n",
    "cms2_dict = pd.Series(df['contact_molecular_surface_2'].values,df['design']).to_dict()\n",
    "cms3_dict = pd.Series(df['contact_molecular_surface_3'].values,df['design']).to_dict()\n",
    "cms5_dict = pd.Series(df['contact_molecular_surface_5'].values,df['design']).to_dict()\n",
    "\n",
    "cms_ap2_dict = pd.Series(df['contact_molecular_surface_ap_target_2'].values,df['design']).to_dict()\n",
    "cms_ap3_dict = pd.Series(df['contact_molecular_surface_ap_target_3'].values,df['design']).to_dict()\n",
    "cms_ap5_dict = pd.Series(df['contact_molecular_surface_ap_target_5'].values,df['design']).to_dict()\n",
    "\n",
    "All_scores_df['cms_2'] = All_scores_df['description'].map(cms2_dict)\n",
    "All_scores_df['cms_3'] = All_scores_df['description'].map(cms3_dict)\n",
    "All_scores_df['cms_5'] = All_scores_df['description'].map(cms5_dict)\n",
    "All_scores_df['cms-ap_2'] = All_scores_df['description'].map(cms_ap2_dict)\n",
    "All_scores_df['cms-ap_3'] = All_scores_df['description'].map(cms_ap3_dict)\n",
    "All_scores_df['cms-ap_5'] = All_scores_df['description'].map(cms_ap5_dict)\n",
    "All_scores_df['ddG_2'] = All_scores_df['description'].map(ddG2_dict)\n",
    "All_scores_df['ddG_3'] = All_scores_df['description'].map(ddG3_dict)\n",
    "All_scores_df['ddG_5'] = All_scores_df['description'].map(ddG5_dict) \n",
    "\n",
    "All_scores_df.to_csv('all_scores_test_1stround.csv')"
   ]
  },
  {
   "cell_type": "markdown",
   "metadata": {},
   "source": [
    "#### Filtering all metrics"
   ]
  },
  {
   "cell_type": "code",
   "execution_count": 88,
   "metadata": {},
   "outputs": [
    {
     "name": "stdout",
     "output_type": "stream",
     "text": [
      "4\n",
      "4\n"
     ]
    },
    {
     "data": {
      "text/plain": [
       "<seaborn.axisgrid.JointGrid at 0x7f9ec37c3fd0>"
      ]
     },
     "execution_count": 88,
     "metadata": {},
     "output_type": "execute_result"
    },
    {
     "data": {
      "image/png": "[encoded data removed]",
      "text/plain": [
       "<Figure size 432x432 with 3 Axes>"
      ]
     },
     "metadata": {
      "needs_background": "light"
     },
     "output_type": "display_data"
    }
   ],
   "source": [
    "All_scores_df = pd.read_csv('all_scores_test_1stround.csv')   ####\"AF\" or \"DM\" -2nd\n",
    "print(len(All_scores_df))\n",
    "All_scores_df = All_scores_df.dropna()\n",
    "print(len(All_scores_df))\n",
    "\n",
    "sns.jointplot(All_scores_df['sc'],All_scores_df['contact_mol_surf_1comp'],kind='hex')"
   ]
  },
  {
   "cell_type": "code",
   "execution_count": 100,
   "metadata": {},
   "outputs": [
    {
     "name": "stdout",
     "output_type": "stream",
     "text": [
      "Designs passing filters 2\n"
     ]
    }
   ],
   "source": [
    "#relevant_features = ['binder_delta_sap', 'target_delta_sap', 'contact_molecular_surface', 'contact_molecular_surface_ap_target','contact_molec_sq5_ap_target','ddg', 'interface_buried_sasa','interface_sc','ss_sc','score_per_res', 'interface_sc_median_dist']\n",
    "\n",
    "All_scores_df['total_ddg'] = All_scores_df['ddG_2'] + All_scores_df['ddG_3']*2 + All_scores_df['ddG_5']*2\n",
    "\n",
    "# Criteria for ONE good interfaces \"cms = contact_molecular_surface\" \"cms-ap = contact_molecular_surface_ap_target\"\n",
    "feature2cutoff = {'ddG': -20, \\\n",
    "                  'cms': 180, \\\n",
    "                  'cms-ap': 100} \n",
    "\n",
    "feature2direction = {'ddG': '<', \\\n",
    "                     'cms': '>', \\\n",
    "                     'cms-ap': '>'}\n",
    "\n",
    "def calc_n_good_interfaces(row):\n",
    "    n_good = 0\n",
    "    for interface in ['_2', '_3', '_5']:\n",
    "        criteria_passed = 0\n",
    "        for feature_name in feature2cutoff:\n",
    "            greaterThan = (feature2direction[feature_name]=='>')\n",
    "            feature_name_for_interface = feature_name + interface\n",
    "            feature_score = row[feature_name_for_interface]\n",
    "            if greaterThan:\n",
    "                is_feature_passing = (feature_score > feature2cutoff[feature_name])\n",
    "            else:\n",
    "                is_feature_passing = (feature_score < feature2cutoff[feature_name])\n",
    "            criteria_passed += int(is_feature_passing)\n",
    "        is_good = (len(feature2cutoff) == criteria_passed)\n",
    "        n_good += int(is_good)\n",
    "    return n_good\n",
    "\n",
    "All_scores_df['n_good_interfaces'] = All_scores_df.apply(lambda x: calc_n_good_interfaces(x), axis=1)\n",
    "\n",
    "#### cage individual interface metrics\n",
    "All_scores_df_filtered = All_scores_df[  (All_scores_df['n_good_interfaces']>=2)\\\n",
    "                 \n",
    "#### AF metrics        ###90  ###1         \n",
    "& (All_scores_df['lDDT'] >85)\\\n",
    "& (All_scores_df['rmsd']<2)\\\n",
    "\n",
    "                 \n",
    "#### cage interface metrics   ###30   ###4  ###4   ###0.6\n",
    "& (All_scores_df['sap_score']<30)\\\n",
    "& (All_scores_df['sbuns_all_heavy'] <3)\\\n",
    "& (All_scores_df['vbuns_all_heavy'] <3)\\\n",
    "& (All_scores_df['sc'] >0.63)\\\n",
    "                 \n",
    "                ]\n",
    "# If we see that they have a lot of apolar surface area we could filter on solvent_exposed_sap as well.\n",
    "\n",
    "\n",
    "print(f'Designs passing filters {len(All_scores_df_filtered)}')"
   ]
  },
  {
   "cell_type": "code",
   "execution_count": 95,
   "metadata": {},
   "outputs": [
    {
     "data": {
      "text/html": [
       "<div>\n",
       "<style scoped>\n",
       "    .dataframe tbody tr th:only-of-type {\n",
       "        vertical-align: middle;\n",
       "    }\n",
       "\n",
       "    .dataframe tbody tr th {\n",
       "        vertical-align: top;\n",
       "    }\n",
       "\n",
       "    .dataframe thead th {\n",
       "        text-align: right;\n",
       "    }\n",
       "</style>\n",
       "<table border=\"1\" class=\"dataframe\">\n",
       "  <thead>\n",
       "    <tr style=\"text-align: right;\">\n",
       "      <th></th>\n",
       "      <th>Unnamed: 0</th>\n",
       "      <th>Unnamed: 0.1</th>\n",
       "      <th>Unnamed: 0.1.1</th>\n",
       "      <th>SCORE:</th>\n",
       "      <th>total_score</th>\n",
       "      <th>AlaCount</th>\n",
       "      <th>AroCount</th>\n",
       "      <th>HPcCount</th>\n",
       "      <th>MetCount</th>\n",
       "      <th>approximate_buried_unsat_penalty</th>\n",
       "      <th>...</th>\n",
       "      <th>cms_3</th>\n",
       "      <th>cms_5</th>\n",
       "      <th>cms-ap_2</th>\n",
       "      <th>cms-ap_3</th>\n",
       "      <th>cms-ap_5</th>\n",
       "      <th>ddG_2</th>\n",
       "      <th>ddG_3</th>\n",
       "      <th>ddG_5</th>\n",
       "      <th>total_ddg</th>\n",
       "      <th>n_good_interfaces</th>\n",
       "    </tr>\n",
       "  </thead>\n",
       "  <tbody>\n",
       "    <tr>\n",
       "      <th>3</th>\n",
       "      <td>3</td>\n",
       "      <td>1</td>\n",
       "      <td>0</td>\n",
       "      <td>SCORE:</td>\n",
       "      <td>-355.331</td>\n",
       "      <td>7.0</td>\n",
       "      <td>3.0</td>\n",
       "      <td>18.0</td>\n",
       "      <td>1.0</td>\n",
       "      <td>1785.0</td>\n",
       "      <td>...</td>\n",
       "      <td>0.024</td>\n",
       "      <td>335.879</td>\n",
       "      <td>261.046</td>\n",
       "      <td>-1.0</td>\n",
       "      <td>257.778</td>\n",
       "      <td>-36.481</td>\n",
       "      <td>0.067</td>\n",
       "      <td>-37.352</td>\n",
       "      <td>-111.051</td>\n",
       "      <td>2</td>\n",
       "    </tr>\n",
       "  </tbody>\n",
       "</table>\n",
       "<p>1 rows × 81 columns</p>\n",
       "</div>"
      ],
      "text/plain": [
       "   Unnamed: 0  Unnamed: 0.1  Unnamed: 0.1.1  SCORE:  total_score  AlaCount  \\\n",
       "3           3             1               0  SCORE:     -355.331       7.0   \n",
       "\n",
       "   AroCount  HPcCount  MetCount  approximate_buried_unsat_penalty  \\\n",
       "3       3.0      18.0       1.0                            1785.0   \n",
       "\n",
       "         ...          cms_3    cms_5  cms-ap_2  cms-ap_3  cms-ap_5   ddG_2  \\\n",
       "3        ...          0.024  335.879   261.046      -1.0   257.778 -36.481   \n",
       "\n",
       "   ddG_3   ddG_5  total_ddg  n_good_interfaces  \n",
       "3  0.067 -37.352   -111.051                  2  \n",
       "\n",
       "[1 rows x 81 columns]"
      ]
     },
     "execution_count": 95,
     "metadata": {},
     "output_type": "execute_result"
    }
   ],
   "source": [
    "All_scores_df_filtered"
   ]
  },
  {
   "cell_type": "markdown",
   "metadata": {},
   "source": [
    "## redesign cage with updated docks and pssms"
   ]
  },
  {
   "cell_type": "code",
   "execution_count": 2,
   "metadata": {},
   "outputs": [],
   "source": [
    "### generate new pssms using cage model that passed filters  \n",
    "### design cage with pssm\n",
    "### set nstruct = 10 for sequence diversity\n"
   ]
  },
  {
   "cell_type": "markdown",
   "metadata": {},
   "source": [
    "## ProteinMPNN redesign"
   ]
  },
  {
   "cell_type": "code",
   "execution_count": null,
   "metadata": {},
   "outputs": [],
   "source": [
    "### ProteinMPNN can be used to design the entire capsid (either polyA backbone, or with sequences), e.g. 60 copies of symmetrically tied together. Please follow the symmetric example provided in the ProteinnMPNN test folder to set up your design run.\n",
    "### ProteinMPNN designed sequences can be structurally predicted by Alphafold2 (as monomer) or Alphafold2-multimer (oligomers) and evaluated based on the pipeline and metrics mentioned above. "
   ]
  }
 ],
 "metadata": {
  "kernelspec": {
   "display_name": "deepchem_obs",
   "language": "python",
   "name": "deepchem_obs"
  },
  "language_info": {
   "codemirror_mode": {
    "name": "ipython",
    "version": 3
   },
   "file_extension": ".py",
   "mimetype": "text/x-python",
   "name": "python",
   "nbconvert_exporter": "python",
   "pygments_lexer": "ipython3",
   "version": "3.6.8"
  }
 },
 "nbformat": 4,
 "nbformat_minor": 4
}
